{
 "cells": [
  {
   "cell_type": "code",
   "execution_count": null,
   "metadata": {},
   "outputs": [],
   "source": [
    "import pickle"
   ]
  },
  {
   "cell_type": "code",
   "execution_count": null,
   "metadata": {},
   "outputs": [],
   "source": [
    "def prediccion_individual(price:float,month:int,year:int = 2018, age = 25,colors = 'Red',group_indexes = 'Ladieswear',garments = 'Dresses Ladies', model = 'tree'):\n",
    "    if price == None: \n",
    "        new_price=0 \n",
    "    else: new_price = price\n",
    "    if month == None: \n",
    "        new_month=5\n",
    "    elif  month >12:\n",
    "        new_month=5\n",
    "    else: new_month = round(month,0)\n",
    "    if year == None: \n",
    "        new_year=2018\n",
    "    #elif year > 2020: \n",
    "    #    new_year=2020\n",
    "    else: new_year = round(year,0)\n",
    "    if age == None: \n",
    "        new_age=25\n",
    "    else: new_age = round(age,0)\n",
    "    \n",
    "    if colors == None:\n",
    "        new_color = encoder_colors['Unknown']\n",
    "    else: \n",
    "        new_color = encoder_colors[colors]\n",
    "        \n",
    "    if group_indexes == None:\n",
    "        new_index = encoder_index_groups['Ladieswear']\n",
    "    else: \n",
    "        new_index = encoder_index_groups[group_indexes]\n",
    "    \n",
    "    if garments == None:\n",
    "        new_garment = encoder_garments['Unknown']\n",
    "    else: \n",
    "        new_garment = encoder_garments[garments]\n",
    "    \n",
    "    datos = pd.DataFrame(columns = ['price','month','year','age','colors','group_indexes','garments'], data=np.array([new_price,new_month,new_year,new_age,new_color,new_index,new_garment]).reshape(1,-1))\n",
    "    if model == None:\n",
    "        loaded_model = pickle.load(open('/home/crnox95/ds4a_project/data/models/tree_model.sav', 'rb'))\n",
    "    elif model == 'tree':\n",
    "        loaded_model = pickle.load(open('/home/crnox95/ds4a_project/data/models/tree_model.sav', 'rb'))\n",
    "    else:\n",
    "        loaded_model = pickle.load(open('ds4a_project/data/models/rf_model.sav', 'rb'))\n",
    "    probabilities = loaded_model.predict_proba(datos)\n",
    "    predictions = loaded_model.predict(datos)\n",
    "    probabilidad_canaldigital = round(probabilities[0][0]*100,2)\n",
    "    probabilidad_canalpresencial = round(probabilities[0][1]*100,2)\n",
    "    if predictions == 0:\n",
    "        clase_predicha = 'Digital Channel'\n",
    "    else:\n",
    "        clase_predicha = 'Presential Channel'\n",
    "    return str(probabilidad_canaldigital) + '%',probabilidad_canalpresencial, clase_predicha"
   ]
  }
 ],
 "metadata": {
  "language_info": {
   "name": "python"
  },
  "orig_nbformat": 4
 },
 "nbformat": 4,
 "nbformat_minor": 2
}
