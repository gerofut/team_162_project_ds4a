{
 "cells": [
  {
   "cell_type": "code",
   "execution_count": 17,
   "metadata": {},
   "outputs": [],
   "source": [
    "import pandas as pd\n",
    "import matplotlib.pyplot as plt\n",
    "import seaborn as sns"
   ]
  },
  {
   "cell_type": "code",
   "execution_count": 18,
   "metadata": {},
   "outputs": [],
   "source": [
    "customers=pd.read_csv(\"/home/crnox95/ds4a_project/data/csv/customers.csv\",sep=',')\n",
    "articles=pd.read_csv(\"/home/crnox95/ds4a_project/data/csv/articles.csv\", sep=',')\n",
    "transactions_train=pd.read_csv(\"/home/crnox95/ds4a_project/data/csv/transactions_train.csv\",sep=',')"
   ]
  },
  {
   "cell_type": "code",
   "execution_count": 19,
   "metadata": {},
   "outputs": [
    {
     "data": {
      "text/html": [
       "<div>\n",
       "<style scoped>\n",
       "    .dataframe tbody tr th:only-of-type {\n",
       "        vertical-align: middle;\n",
       "    }\n",
       "\n",
       "    .dataframe tbody tr th {\n",
       "        vertical-align: top;\n",
       "    }\n",
       "\n",
       "    .dataframe thead th {\n",
       "        text-align: right;\n",
       "    }\n",
       "</style>\n",
       "<table border=\"1\" class=\"dataframe\">\n",
       "  <thead>\n",
       "    <tr style=\"text-align: right;\">\n",
       "      <th></th>\n",
       "      <th>t_dat</th>\n",
       "      <th>customer_id</th>\n",
       "      <th>article_id</th>\n",
       "      <th>price</th>\n",
       "      <th>sales_channel_id</th>\n",
       "      <th>age</th>\n",
       "      <th>prod_name</th>\n",
       "      <th>graphical_appearance_name</th>\n",
       "      <th>colour_group_name</th>\n",
       "      <th>index_group_name</th>\n",
       "      <th>product_type_name</th>\n",
       "    </tr>\n",
       "  </thead>\n",
       "  <tbody>\n",
       "    <tr>\n",
       "      <th>0</th>\n",
       "      <td>2018-09-20</td>\n",
       "      <td>000058a12d5b43e67d225668fa1f8d618c13dc232df0ca...</td>\n",
       "      <td>663713001</td>\n",
       "      <td>0.050831</td>\n",
       "      <td>2.0</td>\n",
       "      <td>24.0</td>\n",
       "      <td>Atlanta Push Body Harlow</td>\n",
       "      <td>Solid</td>\n",
       "      <td>Black</td>\n",
       "      <td>Ladieswear</td>\n",
       "      <td>Underwear body</td>\n",
       "    </tr>\n",
       "  </tbody>\n",
       "</table>\n",
       "</div>"
      ],
      "text/plain": [
       "        t_dat                                        customer_id  article_id  \\\n",
       "0  2018-09-20  000058a12d5b43e67d225668fa1f8d618c13dc232df0ca...   663713001   \n",
       "\n",
       "      price  sales_channel_id   age                 prod_name  \\\n",
       "0  0.050831               2.0  24.0  Atlanta Push Body Harlow   \n",
       "\n",
       "  graphical_appearance_name colour_group_name index_group_name  \\\n",
       "0                     Solid             Black       Ladieswear   \n",
       "\n",
       "  product_type_name  \n",
       "0    Underwear body  "
      ]
     },
     "execution_count": 19,
     "metadata": {},
     "output_type": "execute_result"
    }
   ],
   "source": [
    "customers_age = customers[['customer_id','age']]\n",
    "transaction_cp = transactions_train.merge(customers_age, on='customer_id', how='left')\n",
    "articulos_cp = articles[['article_id','prod_name','graphical_appearance_name','colour_group_name','index_group_name','product_type_name']]\n",
    "transaction_cp2 = transaction_cp.merge(articulos_cp, on='article_id', how='left')\n",
    "transaction_cp2.head(1)"
   ]
  },
  {
   "cell_type": "code",
   "execution_count": 21,
   "metadata": {},
   "outputs": [
    {
     "data": {
      "text/html": [
       "<div>\n",
       "<style scoped>\n",
       "    .dataframe tbody tr th:only-of-type {\n",
       "        vertical-align: middle;\n",
       "    }\n",
       "\n",
       "    .dataframe tbody tr th {\n",
       "        vertical-align: top;\n",
       "    }\n",
       "\n",
       "    .dataframe thead th {\n",
       "        text-align: right;\n",
       "    }\n",
       "</style>\n",
       "<table border=\"1\" class=\"dataframe\">\n",
       "  <thead>\n",
       "    <tr style=\"text-align: right;\">\n",
       "      <th></th>\n",
       "      <th>index_group_name</th>\n",
       "      <th>colour_group_name</th>\n",
       "      <th>count</th>\n",
       "    </tr>\n",
       "  </thead>\n",
       "  <tbody>\n",
       "    <tr>\n",
       "      <th>0</th>\n",
       "      <td>Baby/Children</td>\n",
       "      <td>Dark Blue</td>\n",
       "      <td>6267</td>\n",
       "    </tr>\n",
       "    <tr>\n",
       "      <th>1</th>\n",
       "      <td>Baby/Children</td>\n",
       "      <td>Black</td>\n",
       "      <td>3478</td>\n",
       "    </tr>\n",
       "    <tr>\n",
       "      <th>2</th>\n",
       "      <td>Baby/Children</td>\n",
       "      <td>Light Pink</td>\n",
       "      <td>3322</td>\n",
       "    </tr>\n",
       "    <tr>\n",
       "      <th>3</th>\n",
       "      <td>Baby/Children</td>\n",
       "      <td>White</td>\n",
       "      <td>3269</td>\n",
       "    </tr>\n",
       "    <tr>\n",
       "      <th>4</th>\n",
       "      <td>Baby/Children</td>\n",
       "      <td>Grey</td>\n",
       "      <td>2345</td>\n",
       "    </tr>\n",
       "    <tr>\n",
       "      <th>5</th>\n",
       "      <td>Baby/Children</td>\n",
       "      <td>Blue</td>\n",
       "      <td>1436</td>\n",
       "    </tr>\n",
       "    <tr>\n",
       "      <th>6</th>\n",
       "      <td>Baby/Children</td>\n",
       "      <td>Light Blue</td>\n",
       "      <td>1196</td>\n",
       "    </tr>\n",
       "    <tr>\n",
       "      <th>7</th>\n",
       "      <td>Baby/Children</td>\n",
       "      <td>Red</td>\n",
       "      <td>1095</td>\n",
       "    </tr>\n",
       "    <tr>\n",
       "      <th>8</th>\n",
       "      <td>Baby/Children</td>\n",
       "      <td>Light Grey</td>\n",
       "      <td>936</td>\n",
       "    </tr>\n",
       "    <tr>\n",
       "      <th>9</th>\n",
       "      <td>Baby/Children</td>\n",
       "      <td>Greenish Khaki</td>\n",
       "      <td>901</td>\n",
       "    </tr>\n",
       "  </tbody>\n",
       "</table>\n",
       "</div>"
      ],
      "text/plain": [
       "  index_group_name colour_group_name  count\n",
       "0    Baby/Children         Dark Blue   6267\n",
       "1    Baby/Children             Black   3478\n",
       "2    Baby/Children        Light Pink   3322\n",
       "3    Baby/Children             White   3269\n",
       "4    Baby/Children              Grey   2345\n",
       "5    Baby/Children              Blue   1436\n",
       "6    Baby/Children        Light Blue   1196\n",
       "7    Baby/Children               Red   1095\n",
       "8    Baby/Children        Light Grey    936\n",
       "9    Baby/Children    Greenish Khaki    901"
      ]
     },
     "execution_count": 21,
     "metadata": {},
     "output_type": "execute_result"
    }
   ],
   "source": [
    "group_categories_colors= articles.groupby(['index_group_name'])['colour_group_name'].value_counts().to_frame()\n",
    "group_categories_colors = group_categories_colors.rename(columns={'colour_group_name':'count'})\n",
    "group_categories_colors = group_categories_colors.reset_index()\n",
    "group_categories_colors.head(10)"
   ]
  }
 ],
 "metadata": {
  "kernelspec": {
   "display_name": "Python 3.9.12 ('base': conda)",
   "language": "python",
   "name": "python3"
  },
  "language_info": {
   "codemirror_mode": {
    "name": "ipython",
    "version": 3
   },
   "file_extension": ".py",
   "mimetype": "text/x-python",
   "name": "python",
   "nbconvert_exporter": "python",
   "pygments_lexer": "ipython3",
   "version": "3.9.12"
  },
  "orig_nbformat": 4,
  "vscode": {
   "interpreter": {
    "hash": "c0fb8fb398b56aeee12682d8c8c98777a04b9e968a591a5106becf3ae5c2f4b0"
   }
  }
 },
 "nbformat": 4,
 "nbformat_minor": 2
}
