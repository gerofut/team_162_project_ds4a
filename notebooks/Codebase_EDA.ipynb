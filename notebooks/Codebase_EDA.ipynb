{
 "cells": [
  {
   "cell_type": "markdown",
   "metadata": {
    "id": "opDd1A3UcJom"
   },
   "source": [
    "# Project Codebase EDA\n",
    "## DS4A / Colombia - Cohort 6\n",
    "## Team 162\n",
    "\n",
    "Ariadna De Ávila, Nicolás Gaona, Ricardo Peña, Daniel Restrepo, David Romero, Fredy Salazar, Geronimo Valencia\n",
    "\n"
   ]
  },
  {
   "cell_type": "code",
   "execution_count": null,
   "metadata": {
    "id": "qLspxilXcJot"
   },
   "outputs": [],
   "source": [
    "# import libraries\n",
    "import pandas as pd\n",
    "import matplotlib.pyplot as plt\n",
    "import seaborn as sns"
   ]
  },
  {
   "cell_type": "markdown",
   "metadata": {
    "id": "tWV8-q8TcJox"
   },
   "source": [
    "# 1. Data Acquisition"
   ]
  },
  {
   "cell_type": "markdown",
   "metadata": {
    "id": "zjg-yzL7cJoy"
   },
   "source": [
    "## 1.1 Datasets"
   ]
  },
  {
   "cell_type": "markdown",
   "metadata": {
    "id": "2NleNFM4cJoy"
   },
   "source": [
    "The first step is getting the available datasets over to python so those data can be explored. Data was gathered from H&M competition kaggle competition https://www.kaggle.com/competitions/h-and-m-personalized-fashion-recommendations/data. This is achived through use of library `pandas` as follows:"
   ]
  },
  {
   "cell_type": "code",
   "execution_count": null,
   "metadata": {
    "id": "TIjEdkSncJoz"
   },
   "outputs": [],
   "source": [
    "#import datasets\n",
    "customers=pd.read_csv(\"/content/drive/MyDrive/DS4A_project/data/customers.csv.zip\",sep=',')\n",
    "articles=pd.read_csv(\"/content/drive/MyDrive/DS4A_project/data/articles.csv.zip\", sep=',')\n",
    "transactions_train=pd.read_csv(\"/content/drive/MyDrive/DS4A_project/data/transactions_train.csv\",sep=',')"
   ]
  },
  {
   "cell_type": "code",
   "execution_count": null,
   "metadata": {
    "id": "xBfo510lcJoz",
    "outputId": "814d6bcc-c27a-42b8-d92d-c2eaa0462779",
    "scrolled": true
   },
   "outputs": [
    {
     "data": {
      "text/html": [
       "<div>\n",
       "<style scoped>\n",
       "    .dataframe tbody tr th:only-of-type {\n",
       "        vertical-align: middle;\n",
       "    }\n",
       "\n",
       "    .dataframe tbody tr th {\n",
       "        vertical-align: top;\n",
       "    }\n",
       "\n",
       "    .dataframe thead th {\n",
       "        text-align: right;\n",
       "    }\n",
       "</style>\n",
       "<table border=\"1\" class=\"dataframe\">\n",
       "  <thead>\n",
       "    <tr style=\"text-align: right;\">\n",
       "      <th></th>\n",
       "      <th>customer_id</th>\n",
       "      <th>FN</th>\n",
       "      <th>Active</th>\n",
       "      <th>club_member_status</th>\n",
       "      <th>fashion_news_frequency</th>\n",
       "      <th>age</th>\n",
       "      <th>postal_code</th>\n",
       "    </tr>\n",
       "  </thead>\n",
       "  <tbody>\n",
       "    <tr>\n",
       "      <th>290757</th>\n",
       "      <td>364bc69f352d0d1c198e63d60a02b26e2862eb856a77cb...</td>\n",
       "      <td>NaN</td>\n",
       "      <td>NaN</td>\n",
       "      <td>ACTIVE</td>\n",
       "      <td>NONE</td>\n",
       "      <td>24.0</td>\n",
       "      <td>a15e17ad2c330bb22b57cab54cd4fa90befe1b73314908...</td>\n",
       "    </tr>\n",
       "    <tr>\n",
       "      <th>329674</th>\n",
       "      <td>3da470ebb5f803f299cf7441a112ed2945ac6ff89fe847...</td>\n",
       "      <td>NaN</td>\n",
       "      <td>NaN</td>\n",
       "      <td>PRE-CREATE</td>\n",
       "      <td>NONE</td>\n",
       "      <td>26.0</td>\n",
       "      <td>b7359089c6c581f1ffdb21d7b1b70ec6004f22a6423b76...</td>\n",
       "    </tr>\n",
       "    <tr>\n",
       "      <th>293134</th>\n",
       "      <td>36beec5757c3506074cddda2b07e9baed42b4bcf850fce...</td>\n",
       "      <td>NaN</td>\n",
       "      <td>NaN</td>\n",
       "      <td>ACTIVE</td>\n",
       "      <td>NONE</td>\n",
       "      <td>18.0</td>\n",
       "      <td>05477022a4a5e5345281945deffb23eab2374b344057e0...</td>\n",
       "    </tr>\n",
       "    <tr>\n",
       "      <th>278225</th>\n",
       "      <td>33f0059da35e01f540eb68f70ea58312f5a4756658046b...</td>\n",
       "      <td>NaN</td>\n",
       "      <td>NaN</td>\n",
       "      <td>ACTIVE</td>\n",
       "      <td>NONE</td>\n",
       "      <td>33.0</td>\n",
       "      <td>ad447d0631f96b90b7d7e87f7d8bafcf6347c5906e7c87...</td>\n",
       "    </tr>\n",
       "    <tr>\n",
       "      <th>595052</th>\n",
       "      <td>6f04676c8de4b34dcf1a13fe816e47f2755ee02eaed11d...</td>\n",
       "      <td>NaN</td>\n",
       "      <td>NaN</td>\n",
       "      <td>ACTIVE</td>\n",
       "      <td>NONE</td>\n",
       "      <td>NaN</td>\n",
       "      <td>72eaad5c19dabc3509f66696d915df1a9d1ef9980f02d5...</td>\n",
       "    </tr>\n",
       "  </tbody>\n",
       "</table>\n",
       "</div>"
      ],
      "text/plain": [
       "                                              customer_id  FN  Active  \\\n",
       "290757  364bc69f352d0d1c198e63d60a02b26e2862eb856a77cb... NaN     NaN   \n",
       "329674  3da470ebb5f803f299cf7441a112ed2945ac6ff89fe847... NaN     NaN   \n",
       "293134  36beec5757c3506074cddda2b07e9baed42b4bcf850fce... NaN     NaN   \n",
       "278225  33f0059da35e01f540eb68f70ea58312f5a4756658046b... NaN     NaN   \n",
       "595052  6f04676c8de4b34dcf1a13fe816e47f2755ee02eaed11d... NaN     NaN   \n",
       "\n",
       "       club_member_status fashion_news_frequency   age  \\\n",
       "290757             ACTIVE                   NONE  24.0   \n",
       "329674         PRE-CREATE                   NONE  26.0   \n",
       "293134             ACTIVE                   NONE  18.0   \n",
       "278225             ACTIVE                   NONE  33.0   \n",
       "595052             ACTIVE                   NONE   NaN   \n",
       "\n",
       "                                              postal_code  \n",
       "290757  a15e17ad2c330bb22b57cab54cd4fa90befe1b73314908...  \n",
       "329674  b7359089c6c581f1ffdb21d7b1b70ec6004f22a6423b76...  \n",
       "293134  05477022a4a5e5345281945deffb23eab2374b344057e0...  \n",
       "278225  ad447d0631f96b90b7d7e87f7d8bafcf6347c5906e7c87...  \n",
       "595052  72eaad5c19dabc3509f66696d915df1a9d1ef9980f02d5...  "
      ]
     },
     "execution_count": 3,
     "metadata": {},
     "output_type": "execute_result"
    }
   ],
   "source": [
    "customers.sample(5)"
   ]
  },
  {
   "cell_type": "markdown",
   "metadata": {
    "id": "nRNur54lcJo1"
   },
   "source": [
    "This table includes brief information about H&M's customers and displays some features which include missing values."
   ]
  },
  {
   "cell_type": "code",
   "execution_count": null,
   "metadata": {
    "id": "YngKOL8IcJo2",
    "outputId": "8d372533-f71f-4398-95bc-7ed1f9fbed3e"
   },
   "outputs": [
    {
     "data": {
      "text/html": [
       "<div>\n",
       "<style scoped>\n",
       "    .dataframe tbody tr th:only-of-type {\n",
       "        vertical-align: middle;\n",
       "    }\n",
       "\n",
       "    .dataframe tbody tr th {\n",
       "        vertical-align: top;\n",
       "    }\n",
       "\n",
       "    .dataframe thead th {\n",
       "        text-align: right;\n",
       "    }\n",
       "</style>\n",
       "<table border=\"1\" class=\"dataframe\">\n",
       "  <thead>\n",
       "    <tr style=\"text-align: right;\">\n",
       "      <th></th>\n",
       "      <th>article_id</th>\n",
       "      <th>product_code</th>\n",
       "      <th>prod_name</th>\n",
       "      <th>product_type_no</th>\n",
       "      <th>product_type_name</th>\n",
       "      <th>product_group_name</th>\n",
       "      <th>graphical_appearance_no</th>\n",
       "      <th>graphical_appearance_name</th>\n",
       "      <th>colour_group_code</th>\n",
       "      <th>colour_group_name</th>\n",
       "      <th>...</th>\n",
       "      <th>department_name</th>\n",
       "      <th>index_code</th>\n",
       "      <th>index_name</th>\n",
       "      <th>index_group_no</th>\n",
       "      <th>index_group_name</th>\n",
       "      <th>section_no</th>\n",
       "      <th>section_name</th>\n",
       "      <th>garment_group_no</th>\n",
       "      <th>garment_group_name</th>\n",
       "      <th>detail_desc</th>\n",
       "    </tr>\n",
       "  </thead>\n",
       "  <tbody>\n",
       "    <tr>\n",
       "      <th>99605</th>\n",
       "      <td>885710002</td>\n",
       "      <td>885710</td>\n",
       "      <td>Romeo dress</td>\n",
       "      <td>265</td>\n",
       "      <td>Dress</td>\n",
       "      <td>Garment Full body</td>\n",
       "      <td>1010016</td>\n",
       "      <td>Solid</td>\n",
       "      <td>9</td>\n",
       "      <td>Black</td>\n",
       "      <td>...</td>\n",
       "      <td>Jersey</td>\n",
       "      <td>A</td>\n",
       "      <td>Ladieswear</td>\n",
       "      <td>1</td>\n",
       "      <td>Ladieswear</td>\n",
       "      <td>11</td>\n",
       "      <td>Womens Tailoring</td>\n",
       "      <td>1005</td>\n",
       "      <td>Jersey Fancy</td>\n",
       "      <td>Knee-length, V-neck dress in jersey with short...</td>\n",
       "    </tr>\n",
       "    <tr>\n",
       "      <th>90194</th>\n",
       "      <td>841953001</td>\n",
       "      <td>841953</td>\n",
       "      <td>LAVENDER halfzip sweater</td>\n",
       "      <td>252</td>\n",
       "      <td>Sweater</td>\n",
       "      <td>Garment Upper body</td>\n",
       "      <td>1010010</td>\n",
       "      <td>Melange</td>\n",
       "      <td>13</td>\n",
       "      <td>Beige</td>\n",
       "      <td>...</td>\n",
       "      <td>Knitwear</td>\n",
       "      <td>F</td>\n",
       "      <td>Menswear</td>\n",
       "      <td>3</td>\n",
       "      <td>Menswear</td>\n",
       "      <td>23</td>\n",
       "      <td>Men Suits &amp; Tailoring</td>\n",
       "      <td>1003</td>\n",
       "      <td>Knitwear</td>\n",
       "      <td>Long-sleeved jumper in a fine cotton knit cont...</td>\n",
       "    </tr>\n",
       "    <tr>\n",
       "      <th>62971</th>\n",
       "      <td>738182002</td>\n",
       "      <td>738182</td>\n",
       "      <td>Venice</td>\n",
       "      <td>272</td>\n",
       "      <td>Trousers</td>\n",
       "      <td>Garment Lower body</td>\n",
       "      <td>1010010</td>\n",
       "      <td>Melange</td>\n",
       "      <td>7</td>\n",
       "      <td>Grey</td>\n",
       "      <td>...</td>\n",
       "      <td>Jersey Basic</td>\n",
       "      <td>A</td>\n",
       "      <td>Ladieswear</td>\n",
       "      <td>1</td>\n",
       "      <td>Ladieswear</td>\n",
       "      <td>16</td>\n",
       "      <td>Womens Everyday Basics</td>\n",
       "      <td>1002</td>\n",
       "      <td>Jersey Basic</td>\n",
       "      <td>Trousers in soft jersey made from a viscose bl...</td>\n",
       "    </tr>\n",
       "    <tr>\n",
       "      <th>10366</th>\n",
       "      <td>540614005</td>\n",
       "      <td>540614</td>\n",
       "      <td>SAGA OG Robe</td>\n",
       "      <td>305</td>\n",
       "      <td>Robe</td>\n",
       "      <td>Underwear</td>\n",
       "      <td>1010001</td>\n",
       "      <td>All over pattern</td>\n",
       "      <td>51</td>\n",
       "      <td>Light Pink</td>\n",
       "      <td>...</td>\n",
       "      <td>Kids Girl UW/NW</td>\n",
       "      <td>H</td>\n",
       "      <td>Children Sizes 92-140</td>\n",
       "      <td>4</td>\n",
       "      <td>Baby/Children</td>\n",
       "      <td>79</td>\n",
       "      <td>Girls Underwear &amp; Basics</td>\n",
       "      <td>1017</td>\n",
       "      <td>Under-, Nightwear</td>\n",
       "      <td>Dressing gown in soft fleece with a hood, fron...</td>\n",
       "    </tr>\n",
       "    <tr>\n",
       "      <th>59267</th>\n",
       "      <td>722887001</td>\n",
       "      <td>722887</td>\n",
       "      <td>Bones paperbag waist HW</td>\n",
       "      <td>272</td>\n",
       "      <td>Trousers</td>\n",
       "      <td>Garment Lower body</td>\n",
       "      <td>1010016</td>\n",
       "      <td>Solid</td>\n",
       "      <td>9</td>\n",
       "      <td>Black</td>\n",
       "      <td>...</td>\n",
       "      <td>Trouser</td>\n",
       "      <td>A</td>\n",
       "      <td>Ladieswear</td>\n",
       "      <td>1</td>\n",
       "      <td>Ladieswear</td>\n",
       "      <td>6</td>\n",
       "      <td>Womens Casual</td>\n",
       "      <td>1009</td>\n",
       "      <td>Trousers</td>\n",
       "      <td>Ankle-length trousers in sturdy cotton twill w...</td>\n",
       "    </tr>\n",
       "  </tbody>\n",
       "</table>\n",
       "<p>5 rows × 25 columns</p>\n",
       "</div>"
      ],
      "text/plain": [
       "       article_id  product_code                 prod_name  product_type_no  \\\n",
       "99605   885710002        885710               Romeo dress              265   \n",
       "90194   841953001        841953  LAVENDER halfzip sweater              252   \n",
       "62971   738182002        738182                    Venice              272   \n",
       "10366   540614005        540614              SAGA OG Robe              305   \n",
       "59267   722887001        722887   Bones paperbag waist HW              272   \n",
       "\n",
       "      product_type_name  product_group_name  graphical_appearance_no  \\\n",
       "99605             Dress   Garment Full body                  1010016   \n",
       "90194           Sweater  Garment Upper body                  1010010   \n",
       "62971          Trousers  Garment Lower body                  1010010   \n",
       "10366              Robe           Underwear                  1010001   \n",
       "59267          Trousers  Garment Lower body                  1010016   \n",
       "\n",
       "      graphical_appearance_name  colour_group_code colour_group_name  ...  \\\n",
       "99605                     Solid                  9             Black  ...   \n",
       "90194                   Melange                 13             Beige  ...   \n",
       "62971                   Melange                  7              Grey  ...   \n",
       "10366          All over pattern                 51        Light Pink  ...   \n",
       "59267                     Solid                  9             Black  ...   \n",
       "\n",
       "       department_name index_code             index_name index_group_no  \\\n",
       "99605           Jersey          A             Ladieswear              1   \n",
       "90194         Knitwear          F               Menswear              3   \n",
       "62971     Jersey Basic          A             Ladieswear              1   \n",
       "10366  Kids Girl UW/NW          H  Children Sizes 92-140              4   \n",
       "59267          Trouser          A             Ladieswear              1   \n",
       "\n",
       "       index_group_name section_no              section_name garment_group_no  \\\n",
       "99605        Ladieswear         11          Womens Tailoring             1005   \n",
       "90194          Menswear         23     Men Suits & Tailoring             1003   \n",
       "62971        Ladieswear         16    Womens Everyday Basics             1002   \n",
       "10366     Baby/Children         79  Girls Underwear & Basics             1017   \n",
       "59267        Ladieswear          6             Womens Casual             1009   \n",
       "\n",
       "       garment_group_name                                        detail_desc  \n",
       "99605        Jersey Fancy  Knee-length, V-neck dress in jersey with short...  \n",
       "90194            Knitwear  Long-sleeved jumper in a fine cotton knit cont...  \n",
       "62971        Jersey Basic  Trousers in soft jersey made from a viscose bl...  \n",
       "10366   Under-, Nightwear  Dressing gown in soft fleece with a hood, fron...  \n",
       "59267            Trousers  Ankle-length trousers in sturdy cotton twill w...  \n",
       "\n",
       "[5 rows x 25 columns]"
      ]
     },
     "execution_count": 4,
     "metadata": {},
     "output_type": "execute_result"
    }
   ],
   "source": [
    "articles.sample(5)"
   ]
  },
  {
   "cell_type": "markdown",
   "metadata": {
    "id": "daYm9aGDcJo3"
   },
   "source": [
    "This table includes a more comprehensive information regarding H&M's offered products to their customers. Does not display missing values in a preliminary look and most of its features have only categorical data."
   ]
  },
  {
   "cell_type": "code",
   "execution_count": null,
   "metadata": {
    "id": "b0929-0DcJo3",
    "outputId": "c7ef4ba2-1927-4951-e52c-51c59399ec35"
   },
   "outputs": [
    {
     "data": {
      "text/html": [
       "<div>\n",
       "<style scoped>\n",
       "    .dataframe tbody tr th:only-of-type {\n",
       "        vertical-align: middle;\n",
       "    }\n",
       "\n",
       "    .dataframe tbody tr th {\n",
       "        vertical-align: top;\n",
       "    }\n",
       "\n",
       "    .dataframe thead th {\n",
       "        text-align: right;\n",
       "    }\n",
       "</style>\n",
       "<table border=\"1\" class=\"dataframe\">\n",
       "  <thead>\n",
       "    <tr style=\"text-align: right;\">\n",
       "      <th></th>\n",
       "      <th>t_dat</th>\n",
       "      <th>customer_id</th>\n",
       "      <th>article_id</th>\n",
       "      <th>price</th>\n",
       "      <th>sales_channel_id</th>\n",
       "    </tr>\n",
       "  </thead>\n",
       "  <tbody>\n",
       "    <tr>\n",
       "      <th>4259908</th>\n",
       "      <td>2018-12-27</td>\n",
       "      <td>e5a78a025e8e4c647157bffd7a2c20c53c58f3992defd2...</td>\n",
       "      <td>200182001</td>\n",
       "      <td>0.010322</td>\n",
       "      <td>1</td>\n",
       "    </tr>\n",
       "    <tr>\n",
       "      <th>15446035</th>\n",
       "      <td>2019-08-14</td>\n",
       "      <td>8ad1545a1e6f11301f0fae8493338535de2021f1dd97aa...</td>\n",
       "      <td>773461002</td>\n",
       "      <td>0.005068</td>\n",
       "      <td>2</td>\n",
       "    </tr>\n",
       "    <tr>\n",
       "      <th>21577999</th>\n",
       "      <td>2020-01-23</td>\n",
       "      <td>e8cff69142ff937244d4958a2c19d1a0d5594545b524fe...</td>\n",
       "      <td>761418003</td>\n",
       "      <td>0.010153</td>\n",
       "      <td>1</td>\n",
       "    </tr>\n",
       "    <tr>\n",
       "      <th>29218706</th>\n",
       "      <td>2020-07-19</td>\n",
       "      <td>8d39d32e56b923a967e8af71e63bb1ee9c8ec43a6876ff...</td>\n",
       "      <td>840061002</td>\n",
       "      <td>0.023712</td>\n",
       "      <td>2</td>\n",
       "    </tr>\n",
       "    <tr>\n",
       "      <th>14645969</th>\n",
       "      <td>2019-07-27</td>\n",
       "      <td>d34653686bbdb9000c631f067f56d9a5ce2b0777d9ac08...</td>\n",
       "      <td>575542011</td>\n",
       "      <td>0.022017</td>\n",
       "      <td>1</td>\n",
       "    </tr>\n",
       "  </tbody>\n",
       "</table>\n",
       "</div>"
      ],
      "text/plain": [
       "               t_dat                                        customer_id  \\\n",
       "4259908   2018-12-27  e5a78a025e8e4c647157bffd7a2c20c53c58f3992defd2...   \n",
       "15446035  2019-08-14  8ad1545a1e6f11301f0fae8493338535de2021f1dd97aa...   \n",
       "21577999  2020-01-23  e8cff69142ff937244d4958a2c19d1a0d5594545b524fe...   \n",
       "29218706  2020-07-19  8d39d32e56b923a967e8af71e63bb1ee9c8ec43a6876ff...   \n",
       "14645969  2019-07-27  d34653686bbdb9000c631f067f56d9a5ce2b0777d9ac08...   \n",
       "\n",
       "          article_id     price  sales_channel_id  \n",
       "4259908    200182001  0.010322                 1  \n",
       "15446035   773461002  0.005068                 2  \n",
       "21577999   761418003  0.010153                 1  \n",
       "29218706   840061002  0.023712                 2  \n",
       "14645969   575542011  0.022017                 1  "
      ]
     },
     "execution_count": 5,
     "metadata": {},
     "output_type": "execute_result"
    }
   ],
   "source": [
    "transactions_train.sample(5)"
   ]
  },
  {
   "cell_type": "markdown",
   "metadata": {
    "id": "McSavdlBcJo4"
   },
   "source": [
    "Our core input dataset contains records about sales transactions between H&M's customers, including which customer bought what article and the corresponding price of doing so."
   ]
  },
  {
   "cell_type": "markdown",
   "metadata": {
    "id": "4io0b0n3cJo5"
   },
   "source": [
    "# 2. Variable Exploration\n",
    "## 2.1 Customers Table"
   ]
  },
  {
   "cell_type": "code",
   "execution_count": null,
   "metadata": {
    "id": "tu5wEwZWcJo5",
    "outputId": "07e78cad-f18d-4fcd-c80f-c6c7c18e9d41"
   },
   "outputs": [
    {
     "name": "stdout",
     "output_type": "stream",
     "text": [
      "<class 'pandas.core.frame.DataFrame'>\n",
      "RangeIndex: 1371980 entries, 0 to 1371979\n",
      "Data columns (total 7 columns):\n",
      " #   Column                  Non-Null Count    Dtype  \n",
      "---  ------                  --------------    -----  \n",
      " 0   customer_id             1371980 non-null  object \n",
      " 1   FN                      476930 non-null   float64\n",
      " 2   Active                  464404 non-null   float64\n",
      " 3   club_member_status      1365918 non-null  object \n",
      " 4   fashion_news_frequency  1355971 non-null  object \n",
      " 5   age                     1356119 non-null  float64\n",
      " 6   postal_code             1371980 non-null  object \n",
      "dtypes: float64(3), object(4)\n",
      "memory usage: 73.3+ MB\n"
     ]
    }
   ],
   "source": [
    "customers.info()"
   ]
  },
  {
   "cell_type": "markdown",
   "metadata": {
    "id": "Y5p-gZ2YcJo6"
   },
   "source": [
    "This table is comprised of 7 features and 1371979 records. Three of them are encoded as floating numbers and the rest are categorical variables."
   ]
  },
  {
   "cell_type": "markdown",
   "metadata": {
    "id": "7YhhWXd1cJo6"
   },
   "source": [
    "### 2.1.1 Age "
   ]
  },
  {
   "cell_type": "markdown",
   "metadata": {
    "id": "gCtatdP3cJo6"
   },
   "source": [
    "We will start with one of the most important value for our project, the age variable, since is a numerical variable (float64), lets see the histogram and some descriptives for the feature."
   ]
  },
  {
   "cell_type": "code",
   "execution_count": null,
   "metadata": {
    "id": "WWccI0G2cJo7",
    "outputId": "5d75d694-5c5d-43ef-ebed-0cf933d86984"
   },
   "outputs": [
    {
     "data": {
      "text/plain": [
       "Text(0.5, 1.0, 'age distribution')"
      ]
     },
     "execution_count": 7,
     "metadata": {},
     "output_type": "execute_result"
    },
    {
     "data": {
      "image/png": "[encoded data removed]",
      "text/plain": [
       "<Figure size 432x288 with 1 Axes>"
      ]
     },
     "metadata": {
      "needs_background": "light"
     },
     "output_type": "display_data"
    }
   ],
   "source": [
    "plt.hist(customers.age, bins=40)\n",
    "plt.title('age distribution')"
   ]
  },
  {
   "cell_type": "code",
   "execution_count": null,
   "metadata": {
    "id": "CKPEsy2ocJo7",
    "outputId": "ed999bb7-60b7-48ee-e9c3-6ac6c4cf1971"
   },
   "outputs": [
    {
     "data": {
      "text/plain": [
       "count    1.356119e+06\n",
       "mean     3.638696e+01\n",
       "std      1.431363e+01\n",
       "min      1.600000e+01\n",
       "25%      2.400000e+01\n",
       "50%      3.200000e+01\n",
       "75%      4.900000e+01\n",
       "max      9.900000e+01\n",
       "Name: age, dtype: float64"
      ]
     },
     "execution_count": 8,
     "metadata": {},
     "output_type": "execute_result"
    }
   ],
   "source": [
    "customers.age.describe()"
   ]
  },
  {
   "cell_type": "markdown",
   "metadata": {
    "id": "1IMEbLQocJo8"
   },
   "source": [
    "From customers histrogram it is possible to see two main groups, a main group in age range 20-40 and another smaller one in the range 40-60, those ranges are the common ages for the customers, after that from ages of 60, the values starts to decrease.\n",
    "Mean range of 36.3 years old is within the main group of 20-40\n",
    "A standard deviation of 14 years old is within the estimates of the whole range 20-60 as expected. And a minimun value customer 16 years old, normal value. A max value of 99 can be a little suspicius, let's take a look of the order by age descending:"
   ]
  },
  {
   "cell_type": "code",
   "execution_count": null,
   "metadata": {
    "id": "anCHzcSVcJo8",
    "outputId": "35a76d54-be29-4429-d9f9-a5e4caa8a073"
   },
   "outputs": [
    {
     "data": {
      "text/plain": [
       "1278960    99.0\n",
       "307448     99.0\n",
       "1246886    99.0\n",
       "293547     99.0\n",
       "559892     99.0\n",
       "           ... \n",
       "1371583     NaN\n",
       "1371637     NaN\n",
       "1371712     NaN\n",
       "1371888     NaN\n",
       "1371922     NaN\n",
       "Name: age, Length: 1371980, dtype: float64"
      ]
     },
     "execution_count": 9,
     "metadata": {},
     "output_type": "execute_result"
    }
   ],
   "source": [
    "customers.age.sort_values(ascending=False)"
   ]
  },
  {
   "cell_type": "markdown",
   "metadata": {
    "id": "eA9xRVbHcJo9"
   },
   "source": [
    "After checking there are several customers of 99 years old, so now is more factible that max value. But now some NaN values appeared as well so a check for missing values is needed."
   ]
  },
  {
   "cell_type": "code",
   "execution_count": null,
   "metadata": {
    "id": "AOhi7YbacJo-",
    "outputId": "d3286540-dc12-4b04-b00e-7d5469485e96"
   },
   "outputs": [
    {
     "data": {
      "text/plain": [
       "15861"
      ]
     },
     "execution_count": 10,
     "metadata": {},
     "output_type": "execute_result"
    }
   ],
   "source": [
    "customers.age.isna().sum()"
   ]
  },
  {
   "cell_type": "code",
   "execution_count": null,
   "metadata": {
    "id": "KO2YBmTicJo_",
    "outputId": "013c4441-9d43-410c-af9b-b68ce51e2272"
   },
   "outputs": [
    {
     "data": {
      "text/plain": [
       "1371980"
      ]
     },
     "execution_count": 11,
     "metadata": {},
     "output_type": "execute_result"
    }
   ],
   "source": [
    "customers.shape[0]"
   ]
  },
  {
   "cell_type": "code",
   "execution_count": null,
   "metadata": {
    "id": "30OA-yE1cJpC",
    "outputId": "632228cc-e7ed-4e6e-f315-7236fb1183a2"
   },
   "outputs": [
    {
     "data": {
      "text/plain": [
       "0.011560664149623172"
      ]
     },
     "execution_count": 12,
     "metadata": {},
     "output_type": "execute_result"
    }
   ],
   "source": [
    "customers.age.isna().sum()/customers.shape[0]"
   ]
  },
  {
   "cell_type": "markdown",
   "metadata": {
    "id": "ObloPaCvcJpE"
   },
   "source": [
    "Just 1.1% of the total dataframe has age with NaN, not a big percentage of the dataset but is a considerable amount of rows (15861). For project purposes, since profiling H&M's customers is desirable, the age variable is quite important, those Nan values wil be cleaned."
   ]
  },
  {
   "cell_type": "markdown",
   "metadata": {
    "id": "H85Cc_jYcJpE"
   },
   "source": [
    "### 2.1.2 fashion_news_frequency variable"
   ]
  },
  {
   "cell_type": "markdown",
   "metadata": {
    "id": "uBhOcaGBcJpF"
   },
   "source": [
    "This is a categorical variable, defined as the frecuency of the customer to read fashion news:"
   ]
  },
  {
   "cell_type": "code",
   "execution_count": null,
   "metadata": {
    "id": "a8u860M9cJpF",
    "outputId": "78a61602-0df5-400f-b31c-844d4e6c46e2"
   },
   "outputs": [
    {
     "data": {
      "text/plain": [
       "NONE         877711\n",
       "Regularly    477416\n",
       "Monthly         842\n",
       "None              2\n",
       "Name: fashion_news_frequency, dtype: int64"
      ]
     },
     "execution_count": 13,
     "metadata": {},
     "output_type": "execute_result"
    }
   ],
   "source": [
    "customers.fashion_news_frequency.value_counts()"
   ]
  },
  {
   "cell_type": "code",
   "execution_count": null,
   "metadata": {
    "id": "RvI_7sC3cJpG",
    "outputId": "e5a5efda-6724-4866-94f9-5cb6142a5542"
   },
   "outputs": [
    {
     "data": {
      "text/plain": [
       "16009"
      ]
     },
     "execution_count": 14,
     "metadata": {},
     "output_type": "execute_result"
    }
   ],
   "source": [
    "customers.fashion_news_frequency.isna().sum()"
   ]
  },
  {
   "cell_type": "code",
   "execution_count": null,
   "metadata": {
    "id": "ZZrX5UpdcJpG",
    "outputId": "d9f33e0f-b7ae-4ca8-e995-c2f3ff257a0b"
   },
   "outputs": [
    {
     "data": {
      "text/plain": [
       "0.011668537442236768"
      ]
     },
     "execution_count": 15,
     "metadata": {},
     "output_type": "execute_result"
    }
   ],
   "source": [
    "customers.fashion_news_frequency.isna().sum()/customers.shape[0]"
   ]
  },
  {
   "cell_type": "markdown",
   "metadata": {
    "id": "Ot21QLrFcJpG"
   },
   "source": [
    "The feature include \"None\" values with 2 records; in adition, a \"NONE\" value, with the highest count. The preprocessing will begin then by replacing that \"None\" into \"NONE\". Moreover, 'Monthly' with very poor counts, is a great hint that this dataset is within the NONE and Regularly values; an important insigth from this is that customers are not keen fashion news fans and the rest of them got fashion news with a not defined Regularly value. Initially a good strategy would be skip this variable but this will have to be validated as an assumption on the modeling module.\n",
    "Finally 16009 Nans values (1.1%)."
   ]
  },
  {
   "cell_type": "markdown",
   "metadata": {
    "id": "No_NBhvMcJpG"
   },
   "source": [
    "### 2.1.3 FN,\tActive,\tclub_member_status variable"
   ]
  },
  {
   "cell_type": "markdown",
   "metadata": {
    "id": "QOMVnhPycJpH"
   },
   "source": [
    "For this 3 variables, let's start with the FN variable, (aka Fashion News) strictly related to the previuos variable, fashion_news_frequency, if FN is not null, then fashion_news_frequency has values different from NONE."
   ]
  },
  {
   "cell_type": "code",
   "execution_count": null,
   "metadata": {
    "id": "D4d4F9YmcJpH",
    "outputId": "2a905d74-bc8a-4eb9-b48b-dddb3fbf130c"
   },
   "outputs": [
    {
     "data": {
      "text/html": [
       "<div>\n",
       "<style scoped>\n",
       "    .dataframe tbody tr th:only-of-type {\n",
       "        vertical-align: middle;\n",
       "    }\n",
       "\n",
       "    .dataframe tbody tr th {\n",
       "        vertical-align: top;\n",
       "    }\n",
       "\n",
       "    .dataframe thead th {\n",
       "        text-align: right;\n",
       "    }\n",
       "</style>\n",
       "<table border=\"1\" class=\"dataframe\">\n",
       "  <thead>\n",
       "    <tr style=\"text-align: right;\">\n",
       "      <th></th>\n",
       "      <th>customer_id</th>\n",
       "      <th>FN</th>\n",
       "      <th>Active</th>\n",
       "      <th>club_member_status</th>\n",
       "      <th>fashion_news_frequency</th>\n",
       "      <th>age</th>\n",
       "      <th>postal_code</th>\n",
       "    </tr>\n",
       "  </thead>\n",
       "  <tbody>\n",
       "    <tr>\n",
       "      <th>0</th>\n",
       "      <td>00000dbacae5abe5e23885899a1fa44253a17956c6d1c3...</td>\n",
       "      <td>NaN</td>\n",
       "      <td>NaN</td>\n",
       "      <td>ACTIVE</td>\n",
       "      <td>NONE</td>\n",
       "      <td>49.0</td>\n",
       "      <td>52043ee2162cf5aa7ee79974281641c6f11a68d276429a...</td>\n",
       "    </tr>\n",
       "    <tr>\n",
       "      <th>1</th>\n",
       "      <td>0000423b00ade91418cceaf3b26c6af3dd342b51fd051e...</td>\n",
       "      <td>NaN</td>\n",
       "      <td>NaN</td>\n",
       "      <td>ACTIVE</td>\n",
       "      <td>NONE</td>\n",
       "      <td>25.0</td>\n",
       "      <td>2973abc54daa8a5f8ccfe9362140c63247c5eee03f1d93...</td>\n",
       "    </tr>\n",
       "    <tr>\n",
       "      <th>2</th>\n",
       "      <td>000058a12d5b43e67d225668fa1f8d618c13dc232df0ca...</td>\n",
       "      <td>NaN</td>\n",
       "      <td>NaN</td>\n",
       "      <td>ACTIVE</td>\n",
       "      <td>NONE</td>\n",
       "      <td>24.0</td>\n",
       "      <td>64f17e6a330a85798e4998f62d0930d14db8db1c054af6...</td>\n",
       "    </tr>\n",
       "    <tr>\n",
       "      <th>3</th>\n",
       "      <td>00005ca1c9ed5f5146b52ac8639a40ca9d57aeff4d1bd2...</td>\n",
       "      <td>NaN</td>\n",
       "      <td>NaN</td>\n",
       "      <td>ACTIVE</td>\n",
       "      <td>NONE</td>\n",
       "      <td>54.0</td>\n",
       "      <td>5d36574f52495e81f019b680c843c443bd343d5ca5b1c2...</td>\n",
       "    </tr>\n",
       "    <tr>\n",
       "      <th>4</th>\n",
       "      <td>00006413d8573cd20ed7128e53b7b13819fe5cfc2d801f...</td>\n",
       "      <td>1.0</td>\n",
       "      <td>1.0</td>\n",
       "      <td>ACTIVE</td>\n",
       "      <td>Regularly</td>\n",
       "      <td>52.0</td>\n",
       "      <td>25fa5ddee9aac01b35208d01736e57942317d756b32ddd...</td>\n",
       "    </tr>\n",
       "    <tr>\n",
       "      <th>...</th>\n",
       "      <td>...</td>\n",
       "      <td>...</td>\n",
       "      <td>...</td>\n",
       "      <td>...</td>\n",
       "      <td>...</td>\n",
       "      <td>...</td>\n",
       "      <td>...</td>\n",
       "    </tr>\n",
       "    <tr>\n",
       "      <th>1371975</th>\n",
       "      <td>ffffbbf78b6eaac697a8a5dfbfd2bfa8113ee5b403e474...</td>\n",
       "      <td>NaN</td>\n",
       "      <td>NaN</td>\n",
       "      <td>ACTIVE</td>\n",
       "      <td>NONE</td>\n",
       "      <td>24.0</td>\n",
       "      <td>7aa399f7e669990daba2d92c577b52237380662f36480b...</td>\n",
       "    </tr>\n",
       "    <tr>\n",
       "      <th>1371976</th>\n",
       "      <td>ffffcd5046a6143d29a04fb8c424ce494a76e5cdf4fab5...</td>\n",
       "      <td>NaN</td>\n",
       "      <td>NaN</td>\n",
       "      <td>ACTIVE</td>\n",
       "      <td>NONE</td>\n",
       "      <td>21.0</td>\n",
       "      <td>3f47f1279beb72215f4de557d950e0bfa73789d24acb5e...</td>\n",
       "    </tr>\n",
       "    <tr>\n",
       "      <th>1371977</th>\n",
       "      <td>ffffcf35913a0bee60e8741cb2b4e78b8a98ee5ff2e6a1...</td>\n",
       "      <td>1.0</td>\n",
       "      <td>1.0</td>\n",
       "      <td>ACTIVE</td>\n",
       "      <td>Regularly</td>\n",
       "      <td>21.0</td>\n",
       "      <td>4563fc79215672cd6a863f2b4bf56b8f898f2d96ed590e...</td>\n",
       "    </tr>\n",
       "    <tr>\n",
       "      <th>1371978</th>\n",
       "      <td>ffffd7744cebcf3aca44ae7049d2a94b87074c3d4ffe38...</td>\n",
       "      <td>1.0</td>\n",
       "      <td>1.0</td>\n",
       "      <td>ACTIVE</td>\n",
       "      <td>Regularly</td>\n",
       "      <td>18.0</td>\n",
       "      <td>8892c18e9bc3dca6aa4000cb8094fc4b51ee8db2ed14d7...</td>\n",
       "    </tr>\n",
       "    <tr>\n",
       "      <th>1371979</th>\n",
       "      <td>ffffd9ac14e89946416d80e791d064701994755c3ab686...</td>\n",
       "      <td>NaN</td>\n",
       "      <td>NaN</td>\n",
       "      <td>PRE-CREATE</td>\n",
       "      <td>NONE</td>\n",
       "      <td>65.0</td>\n",
       "      <td>0a1a03306fb2f62164c2a439b38c0caa64b40deaae8687...</td>\n",
       "    </tr>\n",
       "  </tbody>\n",
       "</table>\n",
       "<p>1355971 rows × 7 columns</p>\n",
       "</div>"
      ],
      "text/plain": [
       "                                               customer_id   FN  Active  \\\n",
       "0        00000dbacae5abe5e23885899a1fa44253a17956c6d1c3...  NaN     NaN   \n",
       "1        0000423b00ade91418cceaf3b26c6af3dd342b51fd051e...  NaN     NaN   \n",
       "2        000058a12d5b43e67d225668fa1f8d618c13dc232df0ca...  NaN     NaN   \n",
       "3        00005ca1c9ed5f5146b52ac8639a40ca9d57aeff4d1bd2...  NaN     NaN   \n",
       "4        00006413d8573cd20ed7128e53b7b13819fe5cfc2d801f...  1.0     1.0   \n",
       "...                                                    ...  ...     ...   \n",
       "1371975  ffffbbf78b6eaac697a8a5dfbfd2bfa8113ee5b403e474...  NaN     NaN   \n",
       "1371976  ffffcd5046a6143d29a04fb8c424ce494a76e5cdf4fab5...  NaN     NaN   \n",
       "1371977  ffffcf35913a0bee60e8741cb2b4e78b8a98ee5ff2e6a1...  1.0     1.0   \n",
       "1371978  ffffd7744cebcf3aca44ae7049d2a94b87074c3d4ffe38...  1.0     1.0   \n",
       "1371979  ffffd9ac14e89946416d80e791d064701994755c3ab686...  NaN     NaN   \n",
       "\n",
       "        club_member_status fashion_news_frequency   age  \\\n",
       "0                   ACTIVE                   NONE  49.0   \n",
       "1                   ACTIVE                   NONE  25.0   \n",
       "2                   ACTIVE                   NONE  24.0   \n",
       "3                   ACTIVE                   NONE  54.0   \n",
       "4                   ACTIVE              Regularly  52.0   \n",
       "...                    ...                    ...   ...   \n",
       "1371975             ACTIVE                   NONE  24.0   \n",
       "1371976             ACTIVE                   NONE  21.0   \n",
       "1371977             ACTIVE              Regularly  21.0   \n",
       "1371978             ACTIVE              Regularly  18.0   \n",
       "1371979         PRE-CREATE                   NONE  65.0   \n",
       "\n",
       "                                               postal_code  \n",
       "0        52043ee2162cf5aa7ee79974281641c6f11a68d276429a...  \n",
       "1        2973abc54daa8a5f8ccfe9362140c63247c5eee03f1d93...  \n",
       "2        64f17e6a330a85798e4998f62d0930d14db8db1c054af6...  \n",
       "3        5d36574f52495e81f019b680c843c443bd343d5ca5b1c2...  \n",
       "4        25fa5ddee9aac01b35208d01736e57942317d756b32ddd...  \n",
       "...                                                    ...  \n",
       "1371975  7aa399f7e669990daba2d92c577b52237380662f36480b...  \n",
       "1371976  3f47f1279beb72215f4de557d950e0bfa73789d24acb5e...  \n",
       "1371977  4563fc79215672cd6a863f2b4bf56b8f898f2d96ed590e...  \n",
       "1371978  8892c18e9bc3dca6aa4000cb8094fc4b51ee8db2ed14d7...  \n",
       "1371979  0a1a03306fb2f62164c2a439b38c0caa64b40deaae8687...  \n",
       "\n",
       "[1355971 rows x 7 columns]"
      ]
     },
     "execution_count": 16,
     "metadata": {},
     "output_type": "execute_result"
    }
   ],
   "source": [
    "customers[pd.notna(customers.fashion_news_frequency)]"
   ]
  },
  {
   "cell_type": "markdown",
   "metadata": {
    "id": "Tc7P-LFpcJpI"
   },
   "source": [
    "As mentioned, the FN variable takes value of 1 when the fashion_news_frequency is not NONE or neither NaN. This variable loses importance against the fashion_news_frequency, for modelling purposes just one  should be keep, a more detail exploratory analysis would give hint on which to select."
   ]
  },
  {
   "cell_type": "markdown",
   "metadata": {
    "id": "IY1kDn6WcJpJ"
   },
   "source": [
    "For the club_member_status variable we see categorical values:"
   ]
  },
  {
   "cell_type": "code",
   "execution_count": null,
   "metadata": {
    "id": "-39CiZKBcJpJ",
    "outputId": "c1f3bc7b-5e55-4f57-c480-70395a681c75"
   },
   "outputs": [
    {
     "data": {
      "text/plain": [
       "ACTIVE        1272491\n",
       "PRE-CREATE      92960\n",
       "LEFT CLUB         467\n",
       "Name: club_member_status, dtype: int64"
      ]
     },
     "execution_count": 17,
     "metadata": {},
     "output_type": "execute_result"
    }
   ],
   "source": [
    "customers.club_member_status.value_counts()"
   ]
  },
  {
   "cell_type": "markdown",
   "metadata": {
    "id": "I0VWIUOJcJpK"
   },
   "source": [
    "The club_member_status is defined as the status of a customer id related to a fashion club membership, the majority is in Active status, some of them in process to be active (Pre-Create) and a small size has left the club. There is a small proportion of Nans for this variable."
   ]
  },
  {
   "cell_type": "code",
   "execution_count": null,
   "metadata": {
    "id": "fK1Z-YuxcJpL",
    "outputId": "6f0e3c03-4c65-4c62-c7f9-06ab5e732380"
   },
   "outputs": [
    {
     "data": {
      "text/plain": [
       "6062"
      ]
     },
     "execution_count": 18,
     "metadata": {},
     "output_type": "execute_result"
    }
   ],
   "source": [
    "customers.club_member_status.isna().sum()"
   ]
  },
  {
   "cell_type": "markdown",
   "metadata": {
    "id": "9k0RRyAicJpL"
   },
   "source": [
    "The Active variable is controversial variable, as the dataset is defined, the Active value means that the customer is \"Active\" customer of H&M but is unclear the exact criteria to state this affirmation. Let's see the Active customers, those with 1 value on this field:"
   ]
  },
  {
   "cell_type": "code",
   "execution_count": null,
   "metadata": {
    "id": "tvb2nS5bcJpM",
    "outputId": "d8e7f1a2-8a3a-41b8-b641-90cacee87b23"
   },
   "outputs": [
    {
     "data": {
      "text/plain": [
       "1.0    464404\n",
       "Name: Active, dtype: int64"
      ]
     },
     "execution_count": 19,
     "metadata": {},
     "output_type": "execute_result"
    }
   ],
   "source": [
    "customers.Active.value_counts()"
   ]
  },
  {
   "cell_type": "code",
   "execution_count": null,
   "metadata": {
    "id": "xDLiY9z9cJpM",
    "outputId": "f45d7b2c-fbf6-46c9-e0bd-1abfb05fc118"
   },
   "outputs": [
    {
     "data": {
      "text/plain": [
       "907576"
      ]
     },
     "execution_count": 20,
     "metadata": {},
     "output_type": "execute_result"
    }
   ],
   "source": [
    "customers.Active.isna().sum()"
   ]
  },
  {
   "cell_type": "code",
   "execution_count": null,
   "metadata": {
    "id": "qEo_PzNOcJpN",
    "outputId": "66c353df-694d-48c4-f9e7-5273b37d2889"
   },
   "outputs": [
    {
     "data": {
      "text/plain": [
       "0.6615081852505138"
      ]
     },
     "execution_count": 21,
     "metadata": {},
     "output_type": "execute_result"
    }
   ],
   "source": [
    "customers.Active.isna().sum()/customers.shape[0]"
   ]
  },
  {
   "cell_type": "markdown",
   "metadata": {
    "id": "ojcqirpecJpN"
   },
   "source": [
    "Most clients are Nans (Non Active), deleting those customers will be a huge step and a dangerous procedure, since 66% of the total data will be skipped. Those values will not be deleted here but instead in clustering module where a definition of what is an active customer based on their transactions, frecuency and last buy can be done with better results:"
   ]
  },
  {
   "cell_type": "markdown",
   "metadata": {
    "id": "AoeP-rYKcJpN"
   },
   "source": [
    "### 2.1.4 postal_code variable"
   ]
  },
  {
   "cell_type": "markdown",
   "metadata": {
    "id": "Z1v-BZqGcJpN"
   },
   "source": [
    "Since this variable only provides information regarding geographic zone of the customer, is not relevant for this preliminar EDA. This feature will gain importance if an additional milestones require a more in depth geographical analysis, in that case it would be included in the project to reach the most valuable customers using as a first tool the postal_code value."
   ]
  },
  {
   "cell_type": "markdown",
   "metadata": {
    "id": "IWpHtMyscJpN"
   },
   "source": [
    "## 2.2 Articles Table"
   ]
  },
  {
   "cell_type": "code",
   "execution_count": null,
   "metadata": {
    "id": "I2FQSzV1cJpO",
    "outputId": "58414ee1-d2dd-4f72-a99e-ddcdd6c92b74"
   },
   "outputs": [
    {
     "name": "stdout",
     "output_type": "stream",
     "text": [
      "<class 'pandas.core.frame.DataFrame'>\n",
      "RangeIndex: 105542 entries, 0 to 105541\n",
      "Data columns (total 25 columns):\n",
      " #   Column                        Non-Null Count   Dtype \n",
      "---  ------                        --------------   ----- \n",
      " 0   article_id                    105542 non-null  int64 \n",
      " 1   product_code                  105542 non-null  int64 \n",
      " 2   prod_name                     105542 non-null  object\n",
      " 3   product_type_no               105542 non-null  int64 \n",
      " 4   product_type_name             105542 non-null  object\n",
      " 5   product_group_name            105542 non-null  object\n",
      " 6   graphical_appearance_no       105542 non-null  int64 \n",
      " 7   graphical_appearance_name     105542 non-null  object\n",
      " 8   colour_group_code             105542 non-null  int64 \n",
      " 9   colour_group_name             105542 non-null  object\n",
      " 10  perceived_colour_value_id     105542 non-null  int64 \n",
      " 11  perceived_colour_value_name   105542 non-null  object\n",
      " 12  perceived_colour_master_id    105542 non-null  int64 \n",
      " 13  perceived_colour_master_name  105542 non-null  object\n",
      " 14  department_no                 105542 non-null  int64 \n",
      " 15  department_name               105542 non-null  object\n",
      " 16  index_code                    105542 non-null  object\n",
      " 17  index_name                    105542 non-null  object\n",
      " 18  index_group_no                105542 non-null  int64 \n",
      " 19  index_group_name              105542 non-null  object\n",
      " 20  section_no                    105542 non-null  int64 \n",
      " 21  section_name                  105542 non-null  object\n",
      " 22  garment_group_no              105542 non-null  int64 \n",
      " 23  garment_group_name            105542 non-null  object\n",
      " 24  detail_desc                   105126 non-null  object\n",
      "dtypes: int64(11), object(14)\n",
      "memory usage: 20.1+ MB\n"
     ]
    }
   ],
   "source": [
    "articles.info()"
   ]
  },
  {
   "cell_type": "markdown",
   "metadata": {
    "id": "_vmG9pLkcJpO"
   },
   "source": [
    "The articles table refers to H&M's products details, which will relate to transactions table in a posterior step in analysis. As shown above this dataset contains 105541 records for 25 features. From this first contact with available data the appearance of entity identificators and numbers, commonly used in relational databases, is clearly evident. For instance 'product_type_no' and 'color_group_code' are components that add little value to analysis and also are not used for joining any data. For the rest of this EDA those variables will not be taken into account.\n",
    "\n",
    "A relevant insight is that there are no missing values in this dataset for mots of variables, which is also another lead that most this information must come from a SQL engine database. Also all elements from this dataset are categorical.\n",
    "\n",
    "A set of relevant variables from `articles` dataset based on previous description are:"
   ]
  },
  {
   "cell_type": "code",
   "execution_count": null,
   "metadata": {
    "id": "-XeXhhBicJpO",
    "outputId": "26f88e5c-385d-4019-9daf-e24b4fd22c17"
   },
   "outputs": [
    {
     "data": {
      "text/html": [
       "<div>\n",
       "<style scoped>\n",
       "    .dataframe tbody tr th:only-of-type {\n",
       "        vertical-align: middle;\n",
       "    }\n",
       "\n",
       "    .dataframe tbody tr th {\n",
       "        vertical-align: top;\n",
       "    }\n",
       "\n",
       "    .dataframe thead th {\n",
       "        text-align: right;\n",
       "    }\n",
       "</style>\n",
       "<table border=\"1\" class=\"dataframe\">\n",
       "  <thead>\n",
       "    <tr style=\"text-align: right;\">\n",
       "      <th></th>\n",
       "      <th>article_id</th>\n",
       "      <th>product_type_name</th>\n",
       "      <th>product_group_name</th>\n",
       "      <th>graphical_appearance_name</th>\n",
       "      <th>colour_group_name</th>\n",
       "      <th>perceived_colour_value_name</th>\n",
       "      <th>perceived_colour_master_name</th>\n",
       "      <th>department_name</th>\n",
       "      <th>index_group_name</th>\n",
       "      <th>index_name</th>\n",
       "      <th>section_name</th>\n",
       "      <th>garment_group_name</th>\n",
       "    </tr>\n",
       "  </thead>\n",
       "  <tbody>\n",
       "    <tr>\n",
       "      <th>99945</th>\n",
       "      <td>887668001</td>\n",
       "      <td>Other accessories</td>\n",
       "      <td>Accessories</td>\n",
       "      <td>Solid</td>\n",
       "      <td>Light Beige</td>\n",
       "      <td>Dusty Light</td>\n",
       "      <td>Beige</td>\n",
       "      <td>Ladies Sport Acc</td>\n",
       "      <td>Sport</td>\n",
       "      <td>Sport</td>\n",
       "      <td>Ladies H&amp;M Sport</td>\n",
       "      <td>Accessories</td>\n",
       "    </tr>\n",
       "    <tr>\n",
       "      <th>586</th>\n",
       "      <td>265071025</td>\n",
       "      <td>T-shirt</td>\n",
       "      <td>Garment Upper body</td>\n",
       "      <td>Solid</td>\n",
       "      <td>Green</td>\n",
       "      <td>Bright</td>\n",
       "      <td>Green</td>\n",
       "      <td>Young Boy Jersey Basic</td>\n",
       "      <td>Baby/Children</td>\n",
       "      <td>Children Sizes 134-170</td>\n",
       "      <td>Boys Underwear &amp; Basics</td>\n",
       "      <td>Jersey Basic</td>\n",
       "    </tr>\n",
       "    <tr>\n",
       "      <th>56706</th>\n",
       "      <td>714803008</td>\n",
       "      <td>Dress</td>\n",
       "      <td>Garment Full body</td>\n",
       "      <td>Dot</td>\n",
       "      <td>Black</td>\n",
       "      <td>Dark</td>\n",
       "      <td>Black</td>\n",
       "      <td>Dresses</td>\n",
       "      <td>Divided</td>\n",
       "      <td>Divided</td>\n",
       "      <td>Divided Collection</td>\n",
       "      <td>Dresses Ladies</td>\n",
       "    </tr>\n",
       "    <tr>\n",
       "      <th>94760</th>\n",
       "      <td>863920001</td>\n",
       "      <td>Dress</td>\n",
       "      <td>Garment Full body</td>\n",
       "      <td>Denim</td>\n",
       "      <td>Light Blue</td>\n",
       "      <td>Dusty Light</td>\n",
       "      <td>Blue</td>\n",
       "      <td>Projects Dresses</td>\n",
       "      <td>Divided</td>\n",
       "      <td>Divided</td>\n",
       "      <td>Divided Projects</td>\n",
       "      <td>Dresses Ladies</td>\n",
       "    </tr>\n",
       "    <tr>\n",
       "      <th>103531</th>\n",
       "      <td>912579002</td>\n",
       "      <td>Hoodie</td>\n",
       "      <td>Garment Upper body</td>\n",
       "      <td>Solid</td>\n",
       "      <td>Grey</td>\n",
       "      <td>Medium Dusty</td>\n",
       "      <td>Grey</td>\n",
       "      <td>Jersey</td>\n",
       "      <td>Ladieswear</td>\n",
       "      <td>Ladieswear</td>\n",
       "      <td>Womens Casual</td>\n",
       "      <td>Jersey Fancy</td>\n",
       "    </tr>\n",
       "  </tbody>\n",
       "</table>\n",
       "</div>"
      ],
      "text/plain": [
       "        article_id  product_type_name  product_group_name  \\\n",
       "99945    887668001  Other accessories         Accessories   \n",
       "586      265071025            T-shirt  Garment Upper body   \n",
       "56706    714803008              Dress   Garment Full body   \n",
       "94760    863920001              Dress   Garment Full body   \n",
       "103531   912579002             Hoodie  Garment Upper body   \n",
       "\n",
       "       graphical_appearance_name colour_group_name  \\\n",
       "99945                      Solid       Light Beige   \n",
       "586                        Solid             Green   \n",
       "56706                        Dot             Black   \n",
       "94760                      Denim        Light Blue   \n",
       "103531                     Solid              Grey   \n",
       "\n",
       "       perceived_colour_value_name perceived_colour_master_name  \\\n",
       "99945                  Dusty Light                        Beige   \n",
       "586                         Bright                        Green   \n",
       "56706                         Dark                        Black   \n",
       "94760                  Dusty Light                         Blue   \n",
       "103531                Medium Dusty                         Grey   \n",
       "\n",
       "               department_name index_group_name              index_name  \\\n",
       "99945         Ladies Sport Acc            Sport                   Sport   \n",
       "586     Young Boy Jersey Basic    Baby/Children  Children Sizes 134-170   \n",
       "56706                  Dresses          Divided                 Divided   \n",
       "94760         Projects Dresses          Divided                 Divided   \n",
       "103531                  Jersey       Ladieswear              Ladieswear   \n",
       "\n",
       "                   section_name garment_group_name  \n",
       "99945          Ladies H&M Sport        Accessories  \n",
       "586     Boys Underwear & Basics       Jersey Basic  \n",
       "56706        Divided Collection     Dresses Ladies  \n",
       "94760          Divided Projects     Dresses Ladies  \n",
       "103531            Womens Casual       Jersey Fancy  "
      ]
     },
     "execution_count": 23,
     "metadata": {},
     "output_type": "execute_result"
    }
   ],
   "source": [
    "articles_relevant = articles[['article_id', 'product_type_name', 'product_group_name', 'graphical_appearance_name',\n",
    "          'colour_group_name', 'perceived_colour_value_name', 'perceived_colour_master_name','department_name',\n",
    "          'index_group_name', 'index_name', 'section_name', 'garment_group_name']]\n",
    "articles_relevant.sample(5)"
   ]
  },
  {
   "cell_type": "markdown",
   "metadata": {
    "id": "DDC4ZxHvcJpP"
   },
   "source": [
    "### 2.2.1 Article id\n",
    "\n",
    "This is an entity identifier variable whose main purpose is joining the transactions table and the articles table. Will be kept for that purpose only, and further analysis on it should be discarded as there are no missing values on it and has the same cardinality as dataset length."
   ]
  },
  {
   "cell_type": "markdown",
   "metadata": {
    "id": "cZSQFTyzcJpP"
   },
   "source": [
    "### 2.2.2 Product Type variable\n",
    "\n",
    "The first categorical variable of interest is product type that points to all possible classes of products that H&M produces, in this case there are 131 different product types."
   ]
  },
  {
   "cell_type": "code",
   "execution_count": null,
   "metadata": {
    "id": "tI8GK5v3cJpP",
    "outputId": "86331dd4-4bfa-4b84-edfd-609e9806aca7"
   },
   "outputs": [
    {
     "data": {
      "text/plain": [
       "Trousers         11169\n",
       "Dress            10362\n",
       "Sweater           9302\n",
       "T-shirt           7904\n",
       "Top               4155\n",
       "                 ...  \n",
       "Keychain             1\n",
       "Headband             1\n",
       "Cushion              1\n",
       "Blanket              1\n",
       "Clothing mist        1\n",
       "Name: product_type_name, Length: 131, dtype: int64"
      ]
     },
     "execution_count": 24,
     "metadata": {},
     "output_type": "execute_result"
    }
   ],
   "source": [
    "articles_relevant.product_type_name.value_counts()"
   ]
  },
  {
   "cell_type": "code",
   "execution_count": null,
   "metadata": {
    "id": "w70tsn_AcJpP",
    "outputId": "72f878d7-aaba-4b67-c145-ef5a7507ae50"
   },
   "outputs": [
    {
     "data": {
      "image/png": "[encoded data removed]",
      "text/plain": [
       "<Figure size 432x288 with 1 Axes>"
      ]
     },
     "metadata": {
      "needs_background": "light"
     },
     "output_type": "display_data"
    }
   ],
   "source": [
    "prod_type = articles_relevant.product_type_name.value_counts()[articles_relevant.product_type_name.value_counts() > articles_relevant.product_type_name.value_counts().quantile(0.75)]\n",
    "prod_type.plot.barh(title = 'Product Type')\n",
    "plt.show()"
   ]
  },
  {
   "cell_type": "markdown",
   "metadata": {
    "id": "EdrT6DX_cJpQ"
   },
   "source": [
    "Taking percentile 75 to get rid of little frecuency components it is possible to notice that 33 types encompass 94337 of 105542 records. In them Trousers, Dresses, Sweaters and T-shirts are the most frequent articles in H&M's catalogue."
   ]
  },
  {
   "cell_type": "markdown",
   "metadata": {
    "id": "TXEL4yLAcJpQ"
   },
   "source": [
    "### 2.2.3 Product group name\n",
    "\n",
    "For product groups there are 19 different posibilites. This variable could be useful to segment whether customers have any preference for any particular type of clothes"
   ]
  },
  {
   "cell_type": "code",
   "execution_count": null,
   "metadata": {
    "id": "ooGXev8wcJpQ",
    "outputId": "0e51d27a-c00b-4063-bbc1-ba5f75bd5bbb"
   },
   "outputs": [
    {
     "data": {
      "text/plain": [
       "Garment Upper body       42741\n",
       "Garment Lower body       19812\n",
       "Garment Full body        13292\n",
       "Accessories              11158\n",
       "Underwear                 5490\n",
       "Shoes                     5283\n",
       "Swimwear                  3127\n",
       "Socks & Tights            2442\n",
       "Nightwear                 1899\n",
       "Unknown                    121\n",
       "Underwear/nightwear         54\n",
       "Cosmetic                    49\n",
       "Bags                        25\n",
       "Items                       17\n",
       "Furniture                   13\n",
       "Garment and Shoe care        9\n",
       "Stationery                   5\n",
       "Interior textile             3\n",
       "Fun                          2\n",
       "Name: product_group_name, dtype: int64"
      ]
     },
     "execution_count": 26,
     "metadata": {},
     "output_type": "execute_result"
    }
   ],
   "source": [
    "articles_relevant.product_group_name.value_counts()"
   ]
  },
  {
   "cell_type": "code",
   "execution_count": null,
   "metadata": {
    "id": "3lwUBUkpcJpQ",
    "outputId": "b4a5ea9a-60a0-43e3-c1f0-531b718a40aa"
   },
   "outputs": [
    {
     "data": {
      "image/png": "[encoded data removed]",
      "text/plain": [
       "<Figure size 432x288 with 1 Axes>"
      ]
     },
     "metadata": {
      "needs_background": "light"
     },
     "output_type": "display_data"
    }
   ],
   "source": [
    "prod_group = articles_relevant.product_group_name.value_counts()[articles_relevant.product_group_name.value_counts() > articles_relevant.product_group_name.value_counts().quantile(0.75)]\n",
    "prod_group.plot.barh(title = 'Product Group')\n",
    "plt.show()"
   ]
  },
  {
   "cell_type": "markdown",
   "metadata": {
    "id": "kPmxzoMAcJpR"
   },
   "source": [
    "The Garment groups are the most avalibale in H&M's product offering."
   ]
  },
  {
   "cell_type": "markdown",
   "metadata": {
    "id": "YUm9nBUecJpR"
   },
   "source": [
    "### 2.2.4 Graphical Appearance variable\n",
    "\n",
    "The graphical appeareance is a feature that refers to the particular design H&M's product design has. Is evident that most of their articles are fairly standard whit solid and all over patterns, nevertheless their offer is pretty vast and also include special components for their clothing."
   ]
  },
  {
   "cell_type": "code",
   "execution_count": null,
   "metadata": {
    "id": "oZ991757cJpR",
    "outputId": "27375224-50f2-4acb-ef42-110aa5774eee"
   },
   "outputs": [
    {
     "data": {
      "text/plain": [
       "Solid                  49747\n",
       "All over pattern       17165\n",
       "Melange                 5938\n",
       "Stripe                  4990\n",
       "Denim                   4842\n",
       "Front print             3215\n",
       "Placement print         3098\n",
       "Check                   2178\n",
       "Colour blocking         1830\n",
       "Lace                    1513\n",
       "Other structure         1502\n",
       "Application/3D          1341\n",
       "Embroidery              1165\n",
       "Mixed solid/pattern     1132\n",
       "Glittering/Metallic      958\n",
       "Jacquard                 830\n",
       "Sequin                   806\n",
       "Dot                      681\n",
       "Treatment                586\n",
       "Other pattern            515\n",
       "Contrast                 376\n",
       "Metallic                 346\n",
       "Chambray                 322\n",
       "Slub                     153\n",
       "Transparent               86\n",
       "Mesh                      86\n",
       "Neps                      66\n",
       "Unknown                   52\n",
       "Argyle                    15\n",
       "Hologram                   8\n",
       "Name: graphical_appearance_name, dtype: int64"
      ]
     },
     "execution_count": 28,
     "metadata": {},
     "output_type": "execute_result"
    }
   ],
   "source": [
    "articles_relevant.graphical_appearance_name.value_counts()"
   ]
  },
  {
   "cell_type": "code",
   "execution_count": null,
   "metadata": {
    "id": "1yNIwvZXcJpR",
    "outputId": "2b75f74e-5c43-4e5a-bf7f-bbc2f671c59c"
   },
   "outputs": [
    {
     "data": {
      "image/png": "[encoded data removed]",
      "text/plain": [
       "<Figure size 432x288 with 1 Axes>"
      ]
     },
     "metadata": {
      "needs_background": "light"
     },
     "output_type": "display_data"
    }
   ],
   "source": [
    "graph_app = articles_relevant.graphical_appearance_name.value_counts()[articles_relevant.graphical_appearance_name.value_counts() > articles_relevant.graphical_appearance_name.value_counts().quantile(0.75)]\n",
    "graph_app.plot.barh(title = 'Graphical Appearance')\n",
    "plt.show()"
   ]
  },
  {
   "cell_type": "markdown",
   "metadata": {
    "id": "0CjcXkkucJpR"
   },
   "source": [
    "### 2.2.5 All other relevant article variables\n",
    "\n",
    "Given that all of article dataset features are fairly the same in general structure, all will be addressed with the same preprocessing for analysis which is: to describe the first 75%& of data as a single chunk and categorize all other classes as 'Other'. In the following graphs a more detail of each component is shown:"
   ]
  },
  {
   "cell_type": "code",
   "execution_count": null,
   "metadata": {
    "id": "NTlXbI6YcJpS",
    "outputId": "ac923106-127b-4866-9dd9-255143d3bd10"
   },
   "outputs": [
    {
     "name": "stderr",
     "output_type": "stream",
     "text": [
      "C:\\Users\\David Romero\\AppData\\Local\\Temp\\ipykernel_10772\\641621949.py:6: UserWarning: Matplotlib is currently using module://matplotlib_inline.backend_inline, which is a non-GUI backend, so cannot show the figure.\n",
      "  fig.show()\n"
     ]
    },
    {
     "data": {
      "image/png": "[encoded data removed]",
      "text/plain": [
       "<Figure size 1800x360 with 4 Axes>"
      ]
     },
     "metadata": {
      "needs_background": "light"
     },
     "output_type": "display_data"
    }
   ],
   "source": [
    "%matplotlib inline\n",
    "categorical_features = articles_relevant.iloc[:,4:8].columns\n",
    "fig, ax = plt.subplots(1, len(categorical_features), figsize = (25,5))\n",
    "for i, categorical_feature in enumerate(articles_relevant[categorical_features]):\n",
    "    articles_relevant[categorical_feature].value_counts()[articles_relevant[categorical_feature].value_counts() > articles_relevant[categorical_feature].value_counts().quantile(0.75)].plot(kind = \"bar\", ax=ax[i]).set_title(categorical_feature)\n",
    "fig.show()"
   ]
  },
  {
   "cell_type": "code",
   "execution_count": null,
   "metadata": {
    "id": "rXmPZTXdcJpS",
    "outputId": "4a42eb23-18e4-4cfc-d7f2-e1a229453907"
   },
   "outputs": [
    {
     "name": "stderr",
     "output_type": "stream",
     "text": [
      "C:\\Users\\David Romero\\AppData\\Local\\Temp\\ipykernel_10772\\3189023913.py:6: UserWarning: Matplotlib is currently using module://matplotlib_inline.backend_inline, which is a non-GUI backend, so cannot show the figure.\n",
      "  fig.show()\n"
     ]
    },
    {
     "data": {
      "image/png": "[encoded data removed]",
      "text/plain": [
       "<Figure size 1800x360 with 4 Axes>"
      ]
     },
     "metadata": {
      "needs_background": "light"
     },
     "output_type": "display_data"
    }
   ],
   "source": [
    "%matplotlib inline\n",
    "categorical_features = articles_relevant.iloc[:,8:].columns\n",
    "fig, ax = plt.subplots(1, len(categorical_features), figsize = (25,5))\n",
    "for i, categorical_feature in enumerate(articles_relevant[categorical_features]):\n",
    "    articles_relevant[categorical_feature].value_counts()[articles_relevant[categorical_feature].value_counts() > articles_relevant[categorical_feature].value_counts().quantile(0.75)].plot(kind = \"bar\", ax=ax[i]).set_title(categorical_feature)\n",
    "fig.show()"
   ]
  },
  {
   "cell_type": "markdown",
   "metadata": {
    "id": "Q-QJYN8mcJpS"
   },
   "source": [
    "## 2.3 Transactions Table"
   ]
  },
  {
   "cell_type": "code",
   "execution_count": null,
   "metadata": {
    "id": "kL-swCXIcJpS",
    "outputId": "f4660734-4fc7-4a04-fbaf-ac17f54b695d"
   },
   "outputs": [
    {
     "name": "stdout",
     "output_type": "stream",
     "text": [
      "<class 'pandas.core.frame.DataFrame'>\n",
      "RangeIndex: 31788324 entries, 0 to 31788323\n",
      "Data columns (total 5 columns):\n",
      " #   Column            Dtype  \n",
      "---  ------            -----  \n",
      " 0   t_dat             object \n",
      " 1   customer_id       object \n",
      " 2   article_id        int64  \n",
      " 3   price             float64\n",
      " 4   sales_channel_id  int64  \n",
      "dtypes: float64(1), int64(2), object(2)\n",
      "memory usage: 1.2+ GB\n"
     ]
    }
   ],
   "source": [
    "transactions_train.info()"
   ]
  },
  {
   "cell_type": "markdown",
   "metadata": {
    "id": "TbkENmL3cJpT"
   },
   "source": [
    "The transactions dataset contains five features, inlcudind the date of the transaction, the index reference of the customer who purchased an particular product, the price paid and the sales channel used for executing the transaction. It is comprised of 31788323 records."
   ]
  },
  {
   "cell_type": "code",
   "execution_count": null,
   "metadata": {
    "id": "Y3wuLOy1cJpT",
    "outputId": "9d9abedb-7480-47be-ffaf-888dfc2799cd"
   },
   "outputs": [
    {
     "data": {
      "text/html": [
       "<div>\n",
       "<style scoped>\n",
       "    .dataframe tbody tr th:only-of-type {\n",
       "        vertical-align: middle;\n",
       "    }\n",
       "\n",
       "    .dataframe tbody tr th {\n",
       "        vertical-align: top;\n",
       "    }\n",
       "\n",
       "    .dataframe thead th {\n",
       "        text-align: right;\n",
       "    }\n",
       "</style>\n",
       "<table border=\"1\" class=\"dataframe\">\n",
       "  <thead>\n",
       "    <tr style=\"text-align: right;\">\n",
       "      <th></th>\n",
       "      <th>t_dat</th>\n",
       "      <th>customer_id</th>\n",
       "      <th>article_id</th>\n",
       "      <th>price</th>\n",
       "      <th>sales_channel_id</th>\n",
       "    </tr>\n",
       "  </thead>\n",
       "  <tbody>\n",
       "    <tr>\n",
       "      <th>26984304</th>\n",
       "      <td>2020-06-08</td>\n",
       "      <td>afb7a8f72f4a7642d98d8e01228dc9d27a2d983725808a...</td>\n",
       "      <td>823118004</td>\n",
       "      <td>0.025407</td>\n",
       "      <td>2</td>\n",
       "    </tr>\n",
       "    <tr>\n",
       "      <th>11640101</th>\n",
       "      <td>2019-06-10</td>\n",
       "      <td>d84cc72e5851e311a0f542477c5995dce59faf913bf887...</td>\n",
       "      <td>762656002</td>\n",
       "      <td>0.002915</td>\n",
       "      <td>1</td>\n",
       "    </tr>\n",
       "    <tr>\n",
       "      <th>7651050</th>\n",
       "      <td>2019-03-21</td>\n",
       "      <td>c697ce13f10712eca103e1565e3cd821fb82d322b0f4a2...</td>\n",
       "      <td>560222016</td>\n",
       "      <td>0.010153</td>\n",
       "      <td>2</td>\n",
       "    </tr>\n",
       "    <tr>\n",
       "      <th>28897530</th>\n",
       "      <td>2020-07-11</td>\n",
       "      <td>8d0ca75c85c1986acf5c11f3e9ddb2e300980256d8f733...</td>\n",
       "      <td>835291002</td>\n",
       "      <td>0.013542</td>\n",
       "      <td>2</td>\n",
       "    </tr>\n",
       "    <tr>\n",
       "      <th>2702217</th>\n",
       "      <td>2018-11-20</td>\n",
       "      <td>fdf3c1832aead397f869694cfb30bf38e6d3ea2615800d...</td>\n",
       "      <td>662344006</td>\n",
       "      <td>0.033881</td>\n",
       "      <td>2</td>\n",
       "    </tr>\n",
       "  </tbody>\n",
       "</table>\n",
       "</div>"
      ],
      "text/plain": [
       "               t_dat                                        customer_id  \\\n",
       "26984304  2020-06-08  afb7a8f72f4a7642d98d8e01228dc9d27a2d983725808a...   \n",
       "11640101  2019-06-10  d84cc72e5851e311a0f542477c5995dce59faf913bf887...   \n",
       "7651050   2019-03-21  c697ce13f10712eca103e1565e3cd821fb82d322b0f4a2...   \n",
       "28897530  2020-07-11  8d0ca75c85c1986acf5c11f3e9ddb2e300980256d8f733...   \n",
       "2702217   2018-11-20  fdf3c1832aead397f869694cfb30bf38e6d3ea2615800d...   \n",
       "\n",
       "          article_id     price  sales_channel_id  \n",
       "26984304   823118004  0.025407                 2  \n",
       "11640101   762656002  0.002915                 1  \n",
       "7651050    560222016  0.010153                 2  \n",
       "28897530   835291002  0.013542                 2  \n",
       "2702217    662344006  0.033881                 2  "
      ]
     },
     "execution_count": 33,
     "metadata": {},
     "output_type": "execute_result"
    }
   ],
   "source": [
    "transactions_train.sample(5)"
   ]
  },
  {
   "cell_type": "markdown",
   "metadata": {
    "id": "LJuEnL24cJpT"
   },
   "source": [
    "The transactions table share information abouts the historical values of the transaction of the H&M products over time, the customer_id and article_id are foreign keys for previous tables: articles and customers, so main focus will be on date, price and channel variables for EDA."
   ]
  },
  {
   "cell_type": "markdown",
   "metadata": {
    "id": "OcBFosRocJpT"
   },
   "source": [
    "### 2.3.1 Date"
   ]
  },
  {
   "cell_type": "markdown",
   "metadata": {
    "id": "-LYMgHoScJpT"
   },
   "source": [
    "Transactional information is available since 2018-09-20 until 2020-09-22"
   ]
  },
  {
   "cell_type": "code",
   "execution_count": null,
   "metadata": {
    "id": "Z3eSClAEcJpU",
    "outputId": "ced162fc-78e5-42c2-cad4-7cea3ae2298e"
   },
   "outputs": [
    {
     "data": {
      "text/plain": [
       "31788323    2020-09-22\n",
       "31766498    2020-09-22\n",
       "31766404    2020-09-22\n",
       "31766405    2020-09-22\n",
       "31766406    2020-09-22\n",
       "               ...    \n",
       "32266       2018-09-20\n",
       "32265       2018-09-20\n",
       "32264       2018-09-20\n",
       "32263       2018-09-20\n",
       "0           2018-09-20\n",
       "Name: t_dat, Length: 31788324, dtype: object"
      ]
     },
     "execution_count": 34,
     "metadata": {},
     "output_type": "execute_result"
    }
   ],
   "source": [
    "transactions_train.t_dat.sort_values(ascending=False)"
   ]
  },
  {
   "cell_type": "code",
   "execution_count": null,
   "metadata": {
    "id": "S2EWKePMcJpU",
    "outputId": "0b639845-c708-47aa-dbe4-9197b271ddeb"
   },
   "outputs": [
    {
     "data": {
      "text/html": [
       "<div>\n",
       "<style scoped>\n",
       "    .dataframe tbody tr th:only-of-type {\n",
       "        vertical-align: middle;\n",
       "    }\n",
       "\n",
       "    .dataframe tbody tr th {\n",
       "        vertical-align: top;\n",
       "    }\n",
       "\n",
       "    .dataframe thead th {\n",
       "        text-align: right;\n",
       "    }\n",
       "</style>\n",
       "<table border=\"1\" class=\"dataframe\">\n",
       "  <thead>\n",
       "    <tr style=\"text-align: right;\">\n",
       "      <th></th>\n",
       "      <th>t_dat</th>\n",
       "      <th>customer_id</th>\n",
       "      <th>article_id</th>\n",
       "      <th>price</th>\n",
       "      <th>sales_channel_id</th>\n",
       "      <th>month</th>\n",
       "      <th>year</th>\n",
       "      <th>year_month</th>\n",
       "    </tr>\n",
       "  </thead>\n",
       "  <tbody>\n",
       "    <tr>\n",
       "      <th>0</th>\n",
       "      <td>2018-09-20</td>\n",
       "      <td>000058a12d5b43e67d225668fa1f8d618c13dc232df0ca...</td>\n",
       "      <td>663713001</td>\n",
       "      <td>0.050831</td>\n",
       "      <td>2</td>\n",
       "      <td>9</td>\n",
       "      <td>2018</td>\n",
       "      <td>2018-09</td>\n",
       "    </tr>\n",
       "    <tr>\n",
       "      <th>1</th>\n",
       "      <td>2018-09-20</td>\n",
       "      <td>000058a12d5b43e67d225668fa1f8d618c13dc232df0ca...</td>\n",
       "      <td>541518023</td>\n",
       "      <td>0.030492</td>\n",
       "      <td>2</td>\n",
       "      <td>9</td>\n",
       "      <td>2018</td>\n",
       "      <td>2018-09</td>\n",
       "    </tr>\n",
       "    <tr>\n",
       "      <th>2</th>\n",
       "      <td>2018-09-20</td>\n",
       "      <td>00007d2de826758b65a93dd24ce629ed66842531df6699...</td>\n",
       "      <td>505221004</td>\n",
       "      <td>0.015237</td>\n",
       "      <td>2</td>\n",
       "      <td>9</td>\n",
       "      <td>2018</td>\n",
       "      <td>2018-09</td>\n",
       "    </tr>\n",
       "    <tr>\n",
       "      <th>3</th>\n",
       "      <td>2018-09-20</td>\n",
       "      <td>00007d2de826758b65a93dd24ce629ed66842531df6699...</td>\n",
       "      <td>685687003</td>\n",
       "      <td>0.016932</td>\n",
       "      <td>2</td>\n",
       "      <td>9</td>\n",
       "      <td>2018</td>\n",
       "      <td>2018-09</td>\n",
       "    </tr>\n",
       "    <tr>\n",
       "      <th>4</th>\n",
       "      <td>2018-09-20</td>\n",
       "      <td>00007d2de826758b65a93dd24ce629ed66842531df6699...</td>\n",
       "      <td>685687004</td>\n",
       "      <td>0.016932</td>\n",
       "      <td>2</td>\n",
       "      <td>9</td>\n",
       "      <td>2018</td>\n",
       "      <td>2018-09</td>\n",
       "    </tr>\n",
       "    <tr>\n",
       "      <th>...</th>\n",
       "      <td>...</td>\n",
       "      <td>...</td>\n",
       "      <td>...</td>\n",
       "      <td>...</td>\n",
       "      <td>...</td>\n",
       "      <td>...</td>\n",
       "      <td>...</td>\n",
       "      <td>...</td>\n",
       "    </tr>\n",
       "    <tr>\n",
       "      <th>31788319</th>\n",
       "      <td>2020-09-22</td>\n",
       "      <td>fff2282977442e327b45d8c89afde25617d00124d0f999...</td>\n",
       "      <td>929511001</td>\n",
       "      <td>0.059305</td>\n",
       "      <td>2</td>\n",
       "      <td>9</td>\n",
       "      <td>2020</td>\n",
       "      <td>2020-09</td>\n",
       "    </tr>\n",
       "    <tr>\n",
       "      <th>31788320</th>\n",
       "      <td>2020-09-22</td>\n",
       "      <td>fff2282977442e327b45d8c89afde25617d00124d0f999...</td>\n",
       "      <td>891322004</td>\n",
       "      <td>0.042356</td>\n",
       "      <td>2</td>\n",
       "      <td>9</td>\n",
       "      <td>2020</td>\n",
       "      <td>2020-09</td>\n",
       "    </tr>\n",
       "    <tr>\n",
       "      <th>31788321</th>\n",
       "      <td>2020-09-22</td>\n",
       "      <td>fff380805474b287b05cb2a7507b9a013482f7dd0bce0e...</td>\n",
       "      <td>918325001</td>\n",
       "      <td>0.043203</td>\n",
       "      <td>1</td>\n",
       "      <td>9</td>\n",
       "      <td>2020</td>\n",
       "      <td>2020-09</td>\n",
       "    </tr>\n",
       "    <tr>\n",
       "      <th>31788322</th>\n",
       "      <td>2020-09-22</td>\n",
       "      <td>fff4d3a8b1f3b60af93e78c30a7cb4cf75edaf2590d3e5...</td>\n",
       "      <td>833459002</td>\n",
       "      <td>0.006763</td>\n",
       "      <td>1</td>\n",
       "      <td>9</td>\n",
       "      <td>2020</td>\n",
       "      <td>2020-09</td>\n",
       "    </tr>\n",
       "    <tr>\n",
       "      <th>31788323</th>\n",
       "      <td>2020-09-22</td>\n",
       "      <td>fffef3b6b73545df065b521e19f64bf6fe93bfd450ab20...</td>\n",
       "      <td>898573003</td>\n",
       "      <td>0.033881</td>\n",
       "      <td>2</td>\n",
       "      <td>9</td>\n",
       "      <td>2020</td>\n",
       "      <td>2020-09</td>\n",
       "    </tr>\n",
       "  </tbody>\n",
       "</table>\n",
       "<p>31788324 rows × 8 columns</p>\n",
       "</div>"
      ],
      "text/plain": [
       "               t_dat                                        customer_id  \\\n",
       "0         2018-09-20  000058a12d5b43e67d225668fa1f8d618c13dc232df0ca...   \n",
       "1         2018-09-20  000058a12d5b43e67d225668fa1f8d618c13dc232df0ca...   \n",
       "2         2018-09-20  00007d2de826758b65a93dd24ce629ed66842531df6699...   \n",
       "3         2018-09-20  00007d2de826758b65a93dd24ce629ed66842531df6699...   \n",
       "4         2018-09-20  00007d2de826758b65a93dd24ce629ed66842531df6699...   \n",
       "...              ...                                                ...   \n",
       "31788319  2020-09-22  fff2282977442e327b45d8c89afde25617d00124d0f999...   \n",
       "31788320  2020-09-22  fff2282977442e327b45d8c89afde25617d00124d0f999...   \n",
       "31788321  2020-09-22  fff380805474b287b05cb2a7507b9a013482f7dd0bce0e...   \n",
       "31788322  2020-09-22  fff4d3a8b1f3b60af93e78c30a7cb4cf75edaf2590d3e5...   \n",
       "31788323  2020-09-22  fffef3b6b73545df065b521e19f64bf6fe93bfd450ab20...   \n",
       "\n",
       "          article_id     price  sales_channel_id  month  year year_month  \n",
       "0          663713001  0.050831                 2      9  2018    2018-09  \n",
       "1          541518023  0.030492                 2      9  2018    2018-09  \n",
       "2          505221004  0.015237                 2      9  2018    2018-09  \n",
       "3          685687003  0.016932                 2      9  2018    2018-09  \n",
       "4          685687004  0.016932                 2      9  2018    2018-09  \n",
       "...              ...       ...               ...    ...   ...        ...  \n",
       "31788319   929511001  0.059305                 2      9  2020    2020-09  \n",
       "31788320   891322004  0.042356                 2      9  2020    2020-09  \n",
       "31788321   918325001  0.043203                 1      9  2020    2020-09  \n",
       "31788322   833459002  0.006763                 1      9  2020    2020-09  \n",
       "31788323   898573003  0.033881                 2      9  2020    2020-09  \n",
       "\n",
       "[31788324 rows x 8 columns]"
      ]
     },
     "execution_count": 35,
     "metadata": {},
     "output_type": "execute_result"
    }
   ],
   "source": [
    "transactions_train['month']=pd.DatetimeIndex(transactions_train['t_dat']).month\n",
    "transactions_train['year']=pd.DatetimeIndex(transactions_train['t_dat']).year\n",
    "transactions_train['year_month']=pd.to_datetime(transactions_train['t_dat']).dt.to_period('M')\n",
    "transactions_train"
   ]
  },
  {
   "cell_type": "markdown",
   "metadata": {
    "id": "G-Z8HTeccJpU"
   },
   "source": [
    "The transactional date column needed a modification so it would be properly encoded to date format in python so new elements including a month and year combination wre included. And an auxiliary component that shows a summary is displayed as follows:"
   ]
  },
  {
   "cell_type": "code",
   "execution_count": null,
   "metadata": {
    "id": "ZlZSjfCTcJpV",
    "outputId": "413b32de-fe5d-4328-aa9f-75dbcb4a800c"
   },
   "outputs": [
    {
     "data": {
      "text/html": [
       "<div>\n",
       "<style scoped>\n",
       "    .dataframe tbody tr th:only-of-type {\n",
       "        vertical-align: middle;\n",
       "    }\n",
       "\n",
       "    .dataframe tbody tr th {\n",
       "        vertical-align: top;\n",
       "    }\n",
       "\n",
       "    .dataframe thead th {\n",
       "        text-align: right;\n",
       "    }\n",
       "</style>\n",
       "<table border=\"1\" class=\"dataframe\">\n",
       "  <thead>\n",
       "    <tr style=\"text-align: right;\">\n",
       "      <th></th>\n",
       "      <th>year_month</th>\n",
       "      <th>article_id</th>\n",
       "    </tr>\n",
       "  </thead>\n",
       "  <tbody>\n",
       "    <tr>\n",
       "      <th>0</th>\n",
       "      <td>2018-09</td>\n",
       "      <td>594776</td>\n",
       "    </tr>\n",
       "    <tr>\n",
       "      <th>1</th>\n",
       "      <td>2018-10</td>\n",
       "      <td>1397040</td>\n",
       "    </tr>\n",
       "    <tr>\n",
       "      <th>2</th>\n",
       "      <td>2018-11</td>\n",
       "      <td>1270619</td>\n",
       "    </tr>\n",
       "    <tr>\n",
       "      <th>3</th>\n",
       "      <td>2018-12</td>\n",
       "      <td>1148827</td>\n",
       "    </tr>\n",
       "    <tr>\n",
       "      <th>4</th>\n",
       "      <td>2019-01</td>\n",
       "      <td>1263471</td>\n",
       "    </tr>\n",
       "    <tr>\n",
       "      <th>5</th>\n",
       "      <td>2019-02</td>\n",
       "      <td>1152412</td>\n",
       "    </tr>\n",
       "    <tr>\n",
       "      <th>6</th>\n",
       "      <td>2019-03</td>\n",
       "      <td>1286750</td>\n",
       "    </tr>\n",
       "    <tr>\n",
       "      <th>7</th>\n",
       "      <td>2019-04</td>\n",
       "      <td>1476454</td>\n",
       "    </tr>\n",
       "    <tr>\n",
       "      <th>8</th>\n",
       "      <td>2019-05</td>\n",
       "      <td>1560319</td>\n",
       "    </tr>\n",
       "    <tr>\n",
       "      <th>9</th>\n",
       "      <td>2019-06</td>\n",
       "      <td>1906202</td>\n",
       "    </tr>\n",
       "    <tr>\n",
       "      <th>10</th>\n",
       "      <td>2019-07</td>\n",
       "      <td>1807494</td>\n",
       "    </tr>\n",
       "    <tr>\n",
       "      <th>11</th>\n",
       "      <td>2019-08</td>\n",
       "      <td>1253530</td>\n",
       "    </tr>\n",
       "    <tr>\n",
       "      <th>12</th>\n",
       "      <td>2019-09</td>\n",
       "      <td>1227178</td>\n",
       "    </tr>\n",
       "    <tr>\n",
       "      <th>13</th>\n",
       "      <td>2019-10</td>\n",
       "      <td>1146772</td>\n",
       "    </tr>\n",
       "    <tr>\n",
       "      <th>14</th>\n",
       "      <td>2019-11</td>\n",
       "      <td>1198033</td>\n",
       "    </tr>\n",
       "    <tr>\n",
       "      <th>15</th>\n",
       "      <td>2019-12</td>\n",
       "      <td>1118315</td>\n",
       "    </tr>\n",
       "    <tr>\n",
       "      <th>16</th>\n",
       "      <td>2020-01</td>\n",
       "      <td>1076354</td>\n",
       "    </tr>\n",
       "    <tr>\n",
       "      <th>17</th>\n",
       "      <td>2020-02</td>\n",
       "      <td>1001859</td>\n",
       "    </tr>\n",
       "    <tr>\n",
       "      <th>18</th>\n",
       "      <td>2020-03</td>\n",
       "      <td>1047752</td>\n",
       "    </tr>\n",
       "    <tr>\n",
       "      <th>19</th>\n",
       "      <td>2020-04</td>\n",
       "      <td>1340882</td>\n",
       "    </tr>\n",
       "    <tr>\n",
       "      <th>20</th>\n",
       "      <td>2020-05</td>\n",
       "      <td>1361815</td>\n",
       "    </tr>\n",
       "    <tr>\n",
       "      <th>21</th>\n",
       "      <td>2020-06</td>\n",
       "      <td>1764507</td>\n",
       "    </tr>\n",
       "    <tr>\n",
       "      <th>22</th>\n",
       "      <td>2020-07</td>\n",
       "      <td>1351502</td>\n",
       "    </tr>\n",
       "    <tr>\n",
       "      <th>23</th>\n",
       "      <td>2020-08</td>\n",
       "      <td>1237192</td>\n",
       "    </tr>\n",
       "    <tr>\n",
       "      <th>24</th>\n",
       "      <td>2020-09</td>\n",
       "      <td>798269</td>\n",
       "    </tr>\n",
       "  </tbody>\n",
       "</table>\n",
       "</div>"
      ],
      "text/plain": [
       "   year_month  article_id\n",
       "0     2018-09      594776\n",
       "1     2018-10     1397040\n",
       "2     2018-11     1270619\n",
       "3     2018-12     1148827\n",
       "4     2019-01     1263471\n",
       "5     2019-02     1152412\n",
       "6     2019-03     1286750\n",
       "7     2019-04     1476454\n",
       "8     2019-05     1560319\n",
       "9     2019-06     1906202\n",
       "10    2019-07     1807494\n",
       "11    2019-08     1253530\n",
       "12    2019-09     1227178\n",
       "13    2019-10     1146772\n",
       "14    2019-11     1198033\n",
       "15    2019-12     1118315\n",
       "16    2020-01     1076354\n",
       "17    2020-02     1001859\n",
       "18    2020-03     1047752\n",
       "19    2020-04     1340882\n",
       "20    2020-05     1361815\n",
       "21    2020-06     1764507\n",
       "22    2020-07     1351502\n",
       "23    2020-08     1237192\n",
       "24    2020-09      798269"
      ]
     },
     "execution_count": 37,
     "metadata": {},
     "output_type": "execute_result"
    }
   ],
   "source": [
    "aux=transactions_train.groupby('year_month').count().article_id\n",
    "aux=aux.reset_index()\n",
    "aux"
   ]
  },
  {
   "cell_type": "code",
   "execution_count": null,
   "metadata": {
    "id": "PrzEWQU4cJpV",
    "outputId": "fc61fed7-1ca8-46ab-ce27-7830af9ef5b9"
   },
   "outputs": [
    {
     "name": "stderr",
     "output_type": "stream",
     "text": [
      "C:\\Users\\David Romero\\Anaconda3\\lib\\site-packages\\seaborn\\_decorators.py:36: FutureWarning: Pass the following variables as keyword args: x, y. From version 0.12, the only valid positional argument will be `data`, and passing other arguments without an explicit keyword will result in an error or misinterpretation.\n",
      "  warnings.warn(\n"
     ]
    },
    {
     "data": {
      "image/png": "[encoded data removed]",
      "text/plain": [
       "<Figure size 1368x576 with 1 Axes>"
      ]
     },
     "metadata": {},
     "output_type": "display_data"
    }
   ],
   "source": [
    "sns.set(rc = {'figure.figsize':(19,8)})\n",
    "sns.barplot(aux.year_month,aux.article_id)\n",
    "plt.show()"
   ]
  },
  {
   "cell_type": "markdown",
   "metadata": {
    "id": "mUlhxnB0cJpV"
   },
   "source": [
    "From the plot of transactions over time it is seen that the first and last month got the lowest values, maybe the information for those months are not complete. For the rest of months show a high count of transactions in june (2019-06 and 2020-06), this could be for summer reasons. An initial idea was that on december the number of transactions would increase, for the plot that assumption is rejected. Another insight would be that a \"bell\" shape or normal distribution pattern is observed over the year, at the start of the year the sales are low, start to increase until june (mid year) then decrease and the cycle repeats."
   ]
  },
  {
   "cell_type": "markdown",
   "metadata": {
    "id": "VfgKXdoIcJpV"
   },
   "source": [
    "### 2.3.2 Price variable"
   ]
  },
  {
   "cell_type": "markdown",
   "metadata": {
    "id": "xyg6OeSUcJpW"
   },
   "source": [
    "The price variable for this dataset is the price of the product sold, a possibility is study here the distribution of prices over time, assuming that higher prices result on higher revenues, form then we can see which months are recommended to invest for H&M.\n",
    "Lets see the incomes on a plot:"
   ]
  },
  {
   "cell_type": "code",
   "execution_count": null,
   "metadata": {
    "id": "eNXsjA4WcJpW"
   },
   "outputs": [],
   "source": [
    "go2=transactions_train.groupby('year_month').sum().price"
   ]
  },
  {
   "cell_type": "code",
   "execution_count": null,
   "metadata": {
    "id": "7jCMpOtzcJpX"
   },
   "outputs": [],
   "source": [
    "go2=go2.reset_index()"
   ]
  },
  {
   "cell_type": "code",
   "execution_count": null,
   "metadata": {
    "id": "hfx4mIGBcJpX",
    "outputId": "38f57a0b-38cb-4e33-8d01-a622b6ec0cf3"
   },
   "outputs": [
    {
     "data": {
      "text/html": [
       "<div>\n",
       "<style scoped>\n",
       "    .dataframe tbody tr th:only-of-type {\n",
       "        vertical-align: middle;\n",
       "    }\n",
       "\n",
       "    .dataframe tbody tr th {\n",
       "        vertical-align: top;\n",
       "    }\n",
       "\n",
       "    .dataframe thead th {\n",
       "        text-align: right;\n",
       "    }\n",
       "</style>\n",
       "<table border=\"1\" class=\"dataframe\">\n",
       "  <thead>\n",
       "    <tr style=\"text-align: right;\">\n",
       "      <th></th>\n",
       "      <th>year_month</th>\n",
       "      <th>price</th>\n",
       "    </tr>\n",
       "  </thead>\n",
       "  <tbody>\n",
       "    <tr>\n",
       "      <th>0</th>\n",
       "      <td>2018-09</td>\n",
       "      <td>17755.639593</td>\n",
       "    </tr>\n",
       "    <tr>\n",
       "      <th>1</th>\n",
       "      <td>2018-10</td>\n",
       "      <td>41584.816610</td>\n",
       "    </tr>\n",
       "    <tr>\n",
       "      <th>2</th>\n",
       "      <td>2018-11</td>\n",
       "      <td>39000.988390</td>\n",
       "    </tr>\n",
       "    <tr>\n",
       "      <th>3</th>\n",
       "      <td>2018-12</td>\n",
       "      <td>32532.514712</td>\n",
       "    </tr>\n",
       "    <tr>\n",
       "      <th>4</th>\n",
       "      <td>2019-01</td>\n",
       "      <td>33449.981475</td>\n",
       "    </tr>\n",
       "    <tr>\n",
       "      <th>5</th>\n",
       "      <td>2019-02</td>\n",
       "      <td>31428.221814</td>\n",
       "    </tr>\n",
       "    <tr>\n",
       "      <th>6</th>\n",
       "      <td>2019-03</td>\n",
       "      <td>37549.020169</td>\n",
       "    </tr>\n",
       "    <tr>\n",
       "      <th>7</th>\n",
       "      <td>2019-04</td>\n",
       "      <td>42824.987305</td>\n",
       "    </tr>\n",
       "    <tr>\n",
       "      <th>8</th>\n",
       "      <td>2019-05</td>\n",
       "      <td>43357.502322</td>\n",
       "    </tr>\n",
       "    <tr>\n",
       "      <th>9</th>\n",
       "      <td>2019-06</td>\n",
       "      <td>48648.417864</td>\n",
       "    </tr>\n",
       "    <tr>\n",
       "      <th>10</th>\n",
       "      <td>2019-07</td>\n",
       "      <td>40387.129373</td>\n",
       "    </tr>\n",
       "    <tr>\n",
       "      <th>11</th>\n",
       "      <td>2019-08</td>\n",
       "      <td>30545.846729</td>\n",
       "    </tr>\n",
       "    <tr>\n",
       "      <th>12</th>\n",
       "      <td>2019-09</td>\n",
       "      <td>40304.049864</td>\n",
       "    </tr>\n",
       "    <tr>\n",
       "      <th>13</th>\n",
       "      <td>2019-10</td>\n",
       "      <td>36987.708593</td>\n",
       "    </tr>\n",
       "    <tr>\n",
       "      <th>14</th>\n",
       "      <td>2019-11</td>\n",
       "      <td>38854.420000</td>\n",
       "    </tr>\n",
       "    <tr>\n",
       "      <th>15</th>\n",
       "      <td>2019-12</td>\n",
       "      <td>31267.592458</td>\n",
       "    </tr>\n",
       "    <tr>\n",
       "      <th>16</th>\n",
       "      <td>2020-01</td>\n",
       "      <td>28793.583492</td>\n",
       "    </tr>\n",
       "    <tr>\n",
       "      <th>17</th>\n",
       "      <td>2020-02</td>\n",
       "      <td>28792.876814</td>\n",
       "    </tr>\n",
       "    <tr>\n",
       "      <th>18</th>\n",
       "      <td>2020-03</td>\n",
       "      <td>30274.204661</td>\n",
       "    </tr>\n",
       "    <tr>\n",
       "      <th>19</th>\n",
       "      <td>2020-04</td>\n",
       "      <td>37808.485661</td>\n",
       "    </tr>\n",
       "    <tr>\n",
       "      <th>20</th>\n",
       "      <td>2020-05</td>\n",
       "      <td>37145.694373</td>\n",
       "    </tr>\n",
       "    <tr>\n",
       "      <th>21</th>\n",
       "      <td>2020-06</td>\n",
       "      <td>43055.359068</td>\n",
       "    </tr>\n",
       "    <tr>\n",
       "      <th>22</th>\n",
       "      <td>2020-07</td>\n",
       "      <td>32363.007169</td>\n",
       "    </tr>\n",
       "    <tr>\n",
       "      <th>23</th>\n",
       "      <td>2020-08</td>\n",
       "      <td>33130.499254</td>\n",
       "    </tr>\n",
       "    <tr>\n",
       "      <th>24</th>\n",
       "      <td>2020-09</td>\n",
       "      <td>26803.426288</td>\n",
       "    </tr>\n",
       "  </tbody>\n",
       "</table>\n",
       "</div>"
      ],
      "text/plain": [
       "   year_month         price\n",
       "0     2018-09  17755.639593\n",
       "1     2018-10  41584.816610\n",
       "2     2018-11  39000.988390\n",
       "3     2018-12  32532.514712\n",
       "4     2019-01  33449.981475\n",
       "5     2019-02  31428.221814\n",
       "6     2019-03  37549.020169\n",
       "7     2019-04  42824.987305\n",
       "8     2019-05  43357.502322\n",
       "9     2019-06  48648.417864\n",
       "10    2019-07  40387.129373\n",
       "11    2019-08  30545.846729\n",
       "12    2019-09  40304.049864\n",
       "13    2019-10  36987.708593\n",
       "14    2019-11  38854.420000\n",
       "15    2019-12  31267.592458\n",
       "16    2020-01  28793.583492\n",
       "17    2020-02  28792.876814\n",
       "18    2020-03  30274.204661\n",
       "19    2020-04  37808.485661\n",
       "20    2020-05  37145.694373\n",
       "21    2020-06  43055.359068\n",
       "22    2020-07  32363.007169\n",
       "23    2020-08  33130.499254\n",
       "24    2020-09  26803.426288"
      ]
     },
     "execution_count": 41,
     "metadata": {},
     "output_type": "execute_result"
    }
   ],
   "source": [
    "go2"
   ]
  },
  {
   "cell_type": "code",
   "execution_count": null,
   "metadata": {
    "id": "atNoRU6BcJpX",
    "outputId": "4ae0d104-5b67-4274-e43c-4b585cfa4a9a"
   },
   "outputs": [
    {
     "name": "stderr",
     "output_type": "stream",
     "text": [
      "C:\\Users\\David Romero\\Anaconda3\\lib\\site-packages\\seaborn\\_decorators.py:36: FutureWarning: Pass the following variables as keyword args: x, y. From version 0.12, the only valid positional argument will be `data`, and passing other arguments without an explicit keyword will result in an error or misinterpretation.\n",
      "  warnings.warn(\n"
     ]
    },
    {
     "data": {
      "text/plain": [
       "<AxesSubplot:xlabel='year_month', ylabel='price'>"
      ]
     },
     "execution_count": 42,
     "metadata": {},
     "output_type": "execute_result"
    },
    {
     "data": {
      "image/png": "[encoded data removed]",
      "text/plain": [
       "<Figure size 1368x576 with 1 Axes>"
      ]
     },
     "metadata": {},
     "output_type": "display_data"
    }
   ],
   "source": [
    "sns.set(rc = {'figure.figsize':(19,8)})\n",
    "\n",
    "sns.barplot(go2.year_month,go2.price)"
   ]
  },
  {
   "cell_type": "markdown",
   "metadata": {
    "id": "wS0iCZWjcJpX"
   },
   "source": [
    "We see a similar plot from the total sales, thats expected considering that a big ammount of sales will result in more money, this reinforce our previous affirmation, a recommendation for H&M at this point may be consider increase prices in junes (to get more revenue) and decrease the prices in months not that popular in order to possibly get more customers and then more sales. This should be attached with a marketing strategy and more stuff but we have an idea of critical months here."
   ]
  },
  {
   "cell_type": "code",
   "execution_count": null,
   "metadata": {
    "id": "WpMmMql_cJpY",
    "outputId": "fcd8dea6-f536-4d88-e1b2-cfac7cef818b"
   },
   "outputs": [
    {
     "data": {
      "text/plain": [
       "count    3.178832e+07\n",
       "mean     2.782927e-02\n",
       "std      1.918113e-02\n",
       "min      1.694915e-05\n",
       "25%      1.581356e-02\n",
       "50%      2.540678e-02\n",
       "75%      3.388136e-02\n",
       "max      5.915254e-01\n",
       "Name: price, dtype: float64"
      ]
     },
     "execution_count": 43,
     "metadata": {},
     "output_type": "execute_result"
    }
   ],
   "source": [
    "transactions_train.price.describe()"
   ]
  },
  {
   "cell_type": "markdown",
   "metadata": {
    "id": "cYkiqjX3cJpY"
   },
   "source": [
    "Here's some information about the price variable, since we dont know what actual currency is used we cant conclude more about the variable. The mean price for articles is 0.0278, a max value of 0.59 and a min value of 0.0000169. The deviation looks small 0.019 so no big chances would be excected from product to product."
   ]
  },
  {
   "cell_type": "markdown",
   "metadata": {
    "id": "vU8NuyMFcJpY"
   },
   "source": [
    "### 2.3.4 sales_channel_id variable"
   ]
  },
  {
   "cell_type": "markdown",
   "metadata": {
    "id": "8IqT0PPwcJpZ"
   },
   "source": [
    "Description for this variable will be as the channel used for the sale, can be personal or digital purchase."
   ]
  },
  {
   "cell_type": "code",
   "execution_count": null,
   "metadata": {
    "id": "Brabv9yycJpZ",
    "outputId": "d8171c11-bfc2-47ec-e125-77b959e16fed"
   },
   "outputs": [
    {
     "data": {
      "text/html": [
       "<div>\n",
       "<style scoped>\n",
       "    .dataframe tbody tr th:only-of-type {\n",
       "        vertical-align: middle;\n",
       "    }\n",
       "\n",
       "    .dataframe tbody tr th {\n",
       "        vertical-align: top;\n",
       "    }\n",
       "\n",
       "    .dataframe thead th {\n",
       "        text-align: right;\n",
       "    }\n",
       "</style>\n",
       "<table border=\"1\" class=\"dataframe\">\n",
       "  <thead>\n",
       "    <tr style=\"text-align: right;\">\n",
       "      <th></th>\n",
       "      <th>t_dat</th>\n",
       "      <th>customer_id</th>\n",
       "      <th>article_id</th>\n",
       "      <th>price</th>\n",
       "      <th>sales_channel_id</th>\n",
       "      <th>month</th>\n",
       "      <th>year</th>\n",
       "      <th>year_month</th>\n",
       "    </tr>\n",
       "  </thead>\n",
       "  <tbody>\n",
       "    <tr>\n",
       "      <th>0</th>\n",
       "      <td>2018-09-20</td>\n",
       "      <td>000058a12d5b43e67d225668fa1f8d618c13dc232df0ca...</td>\n",
       "      <td>663713001</td>\n",
       "      <td>0.050831</td>\n",
       "      <td>2</td>\n",
       "      <td>9</td>\n",
       "      <td>2018</td>\n",
       "      <td>2018-09</td>\n",
       "    </tr>\n",
       "    <tr>\n",
       "      <th>1</th>\n",
       "      <td>2018-09-20</td>\n",
       "      <td>000058a12d5b43e67d225668fa1f8d618c13dc232df0ca...</td>\n",
       "      <td>541518023</td>\n",
       "      <td>0.030492</td>\n",
       "      <td>2</td>\n",
       "      <td>9</td>\n",
       "      <td>2018</td>\n",
       "      <td>2018-09</td>\n",
       "    </tr>\n",
       "    <tr>\n",
       "      <th>2</th>\n",
       "      <td>2018-09-20</td>\n",
       "      <td>00007d2de826758b65a93dd24ce629ed66842531df6699...</td>\n",
       "      <td>505221004</td>\n",
       "      <td>0.015237</td>\n",
       "      <td>2</td>\n",
       "      <td>9</td>\n",
       "      <td>2018</td>\n",
       "      <td>2018-09</td>\n",
       "    </tr>\n",
       "    <tr>\n",
       "      <th>3</th>\n",
       "      <td>2018-09-20</td>\n",
       "      <td>00007d2de826758b65a93dd24ce629ed66842531df6699...</td>\n",
       "      <td>685687003</td>\n",
       "      <td>0.016932</td>\n",
       "      <td>2</td>\n",
       "      <td>9</td>\n",
       "      <td>2018</td>\n",
       "      <td>2018-09</td>\n",
       "    </tr>\n",
       "    <tr>\n",
       "      <th>4</th>\n",
       "      <td>2018-09-20</td>\n",
       "      <td>00007d2de826758b65a93dd24ce629ed66842531df6699...</td>\n",
       "      <td>685687004</td>\n",
       "      <td>0.016932</td>\n",
       "      <td>2</td>\n",
       "      <td>9</td>\n",
       "      <td>2018</td>\n",
       "      <td>2018-09</td>\n",
       "    </tr>\n",
       "  </tbody>\n",
       "</table>\n",
       "</div>"
      ],
      "text/plain": [
       "        t_dat                                        customer_id  article_id  \\\n",
       "0  2018-09-20  000058a12d5b43e67d225668fa1f8d618c13dc232df0ca...   663713001   \n",
       "1  2018-09-20  000058a12d5b43e67d225668fa1f8d618c13dc232df0ca...   541518023   \n",
       "2  2018-09-20  00007d2de826758b65a93dd24ce629ed66842531df6699...   505221004   \n",
       "3  2018-09-20  00007d2de826758b65a93dd24ce629ed66842531df6699...   685687003   \n",
       "4  2018-09-20  00007d2de826758b65a93dd24ce629ed66842531df6699...   685687004   \n",
       "\n",
       "      price  sales_channel_id  month  year year_month  \n",
       "0  0.050831                 2      9  2018    2018-09  \n",
       "1  0.030492                 2      9  2018    2018-09  \n",
       "2  0.015237                 2      9  2018    2018-09  \n",
       "3  0.016932                 2      9  2018    2018-09  \n",
       "4  0.016932                 2      9  2018    2018-09  "
      ]
     },
     "execution_count": 44,
     "metadata": {},
     "output_type": "execute_result"
    }
   ],
   "source": [
    "transactions_train.head()"
   ]
  },
  {
   "cell_type": "code",
   "execution_count": null,
   "metadata": {
    "id": "8iLsKkitcJpZ",
    "outputId": "cb4732ef-7457-414f-b9a4-eb90016b0638"
   },
   "outputs": [
    {
     "data": {
      "text/html": [
       "<div>\n",
       "<style scoped>\n",
       "    .dataframe tbody tr th:only-of-type {\n",
       "        vertical-align: middle;\n",
       "    }\n",
       "\n",
       "    .dataframe tbody tr th {\n",
       "        vertical-align: top;\n",
       "    }\n",
       "\n",
       "    .dataframe thead th {\n",
       "        text-align: right;\n",
       "    }\n",
       "</style>\n",
       "<table border=\"1\" class=\"dataframe\">\n",
       "  <thead>\n",
       "    <tr style=\"text-align: right;\">\n",
       "      <th></th>\n",
       "      <th>index</th>\n",
       "      <th>sales_channel_id</th>\n",
       "    </tr>\n",
       "  </thead>\n",
       "  <tbody>\n",
       "    <tr>\n",
       "      <th>0</th>\n",
       "      <td>2</td>\n",
       "      <td>22379862</td>\n",
       "    </tr>\n",
       "    <tr>\n",
       "      <th>1</th>\n",
       "      <td>1</td>\n",
       "      <td>9408462</td>\n",
       "    </tr>\n",
       "  </tbody>\n",
       "</table>\n",
       "</div>"
      ],
      "text/plain": [
       "   index  sales_channel_id\n",
       "0      2          22379862\n",
       "1      1           9408462"
      ]
     },
     "execution_count": 46,
     "metadata": {},
     "output_type": "execute_result"
    }
   ],
   "source": [
    "transactions_train.sales_channel_id.value_counts().reset_index()"
   ]
  },
  {
   "cell_type": "code",
   "execution_count": null,
   "metadata": {
    "id": "jns_0TUxcJpZ",
    "outputId": "18be299e-1249-4f8a-987a-590de40e14c4"
   },
   "outputs": [
    {
     "data": {
      "text/plain": [
       "2    0.704028\n",
       "1    0.295972\n",
       "Name: sales_channel_id, dtype: float64"
      ]
     },
     "execution_count": 47,
     "metadata": {},
     "output_type": "execute_result"
    }
   ],
   "source": [
    "transactions_train.sales_channel_id.value_counts()/transactions_train.shape[0]"
   ]
  },
  {
   "cell_type": "markdown",
   "metadata": {
    "id": "g63mRMcRcJpZ"
   },
   "source": [
    "Most of the sales are made using channel 2 (70%), this is the digital channel. Favorite channel for the customers instead of the personal channel."
   ]
  },
  {
   "cell_type": "code",
   "execution_count": null,
   "metadata": {
    "id": "zLpibabdcJpZ",
    "outputId": "fc2c130e-7ac2-41d1-ddf0-97d893142248"
   },
   "outputs": [
    {
     "data": {
      "text/plain": [
       "<BarContainer object of 2 artists>"
      ]
     },
     "execution_count": 48,
     "metadata": {},
     "output_type": "execute_result"
    },
    {
     "data": {
      "image/png": "[encoded data removed]",
      "text/plain": [
       "<Figure size 1368x576 with 1 Axes>"
      ]
     },
     "metadata": {},
     "output_type": "display_data"
    }
   ],
   "source": [
    "plt.bar(transactions_train.sales_channel_id.value_counts().reset_index()['index'],transactions_train.sales_channel_id.value_counts().reset_index()['sales_channel_id'],width=0.35)"
   ]
  },
  {
   "cell_type": "markdown",
   "metadata": {
    "id": "_9B3p1gLcJpa"
   },
   "source": [
    "## 2.4 Dataset Relationships\n",
    "\n",
    "### 2.4.1 Customer - Transaction Relationship"
   ]
  },
  {
   "cell_type": "markdown",
   "metadata": {
    "id": "r7SHVUv5cJpa"
   },
   "source": [
    "For every transaction there's always a customer, let's see the top 10 customers defined as those customer who purchase a big ammount of articles:"
   ]
  },
  {
   "cell_type": "code",
   "execution_count": null,
   "metadata": {
    "id": "g20IbDa1cJpa"
   },
   "outputs": [],
   "source": [
    "top_customers=transactions_train.groupby('customer_id').count().article_id.reset_index()"
   ]
  },
  {
   "cell_type": "code",
   "execution_count": null,
   "metadata": {
    "id": "EcXCs9nvcJpa"
   },
   "outputs": [],
   "source": [
    "top_customers=top_customers.sort_values('article_id', ascending=False).head(10)"
   ]
  },
  {
   "cell_type": "markdown",
   "metadata": {
    "id": "IiKaXBu9cJpb"
   },
   "source": [
    "We can see here the customer_ids with high ammount of transactions for H&M, with those customers ids we can found aditional information from the customers tables, getting new information:"
   ]
  },
  {
   "cell_type": "code",
   "execution_count": null,
   "metadata": {
    "id": "tCvmAaxPcJpb"
   },
   "outputs": [],
   "source": [
    "filter_customer=customers[customers['customer_id'].isin(list(top_customers.customer_id))]"
   ]
  },
  {
   "cell_type": "code",
   "execution_count": null,
   "metadata": {
    "id": "-WW4XA7CcJpb",
    "outputId": "36a99f85-e92b-4962-b828-e2dc1b388c76"
   },
   "outputs": [
    {
     "data": {
      "text/html": [
       "<div>\n",
       "<style scoped>\n",
       "    .dataframe tbody tr th:only-of-type {\n",
       "        vertical-align: middle;\n",
       "    }\n",
       "\n",
       "    .dataframe tbody tr th {\n",
       "        vertical-align: top;\n",
       "    }\n",
       "\n",
       "    .dataframe thead th {\n",
       "        text-align: right;\n",
       "    }\n",
       "</style>\n",
       "<table border=\"1\" class=\"dataframe\">\n",
       "  <thead>\n",
       "    <tr style=\"text-align: right;\">\n",
       "      <th></th>\n",
       "      <th>customer_id</th>\n",
       "      <th>FN</th>\n",
       "      <th>Active</th>\n",
       "      <th>club_member_status</th>\n",
       "      <th>fashion_news_frequency</th>\n",
       "      <th>age</th>\n",
       "      <th>postal_code</th>\n",
       "    </tr>\n",
       "  </thead>\n",
       "  <tbody>\n",
       "    <tr>\n",
       "      <th>20300</th>\n",
       "      <td>03d0011487606c37c1b1ed147fc72f285a50c05f00b971...</td>\n",
       "      <td>1.0</td>\n",
       "      <td>1.0</td>\n",
       "      <td>ACTIVE</td>\n",
       "      <td>Regularly</td>\n",
       "      <td>51.0</td>\n",
       "      <td>8db52856d17c197683efbc9d5ef2dc873aaf7062486b2d...</td>\n",
       "    </tr>\n",
       "    <tr>\n",
       "      <th>394603</th>\n",
       "      <td>49beaacac0c7801c2ce2d189efe525fe80b5d37e46ed05...</td>\n",
       "      <td>NaN</td>\n",
       "      <td>NaN</td>\n",
       "      <td>ACTIVE</td>\n",
       "      <td>NONE</td>\n",
       "      <td>28.0</td>\n",
       "      <td>ab724d6cb2340bd9c5294fd7f2811349f6509a27a8bc5c...</td>\n",
       "    </tr>\n",
       "    <tr>\n",
       "      <th>459261</th>\n",
       "      <td>55d15396193dfd45836af3a6269a079efea339e875eff4...</td>\n",
       "      <td>NaN</td>\n",
       "      <td>NaN</td>\n",
       "      <td>ACTIVE</td>\n",
       "      <td>NONE</td>\n",
       "      <td>36.0</td>\n",
       "      <td>ab522f6a3ad49ede7552234ed11f5e7658b8678832010a...</td>\n",
       "    </tr>\n",
       "    <tr>\n",
       "      <th>582904</th>\n",
       "      <td>6cc121e5cc202d2bf344ffe795002bdbf87178054bcda2...</td>\n",
       "      <td>1.0</td>\n",
       "      <td>1.0</td>\n",
       "      <td>ACTIVE</td>\n",
       "      <td>Regularly</td>\n",
       "      <td>32.0</td>\n",
       "      <td>6480abda4aa42dcf1f5c4597c616bc53365825f1cbdf68...</td>\n",
       "    </tr>\n",
       "    <tr>\n",
       "      <th>760470</th>\n",
       "      <td>8df45859ccd71ef1e48e2ee9d1c65d5728c31c46ae957d...</td>\n",
       "      <td>1.0</td>\n",
       "      <td>1.0</td>\n",
       "      <td>ACTIVE</td>\n",
       "      <td>Regularly</td>\n",
       "      <td>60.0</td>\n",
       "      <td>9a91a77e198519db58d9dd9c55aa037846701ab4d54a9d...</td>\n",
       "    </tr>\n",
       "    <tr>\n",
       "      <th>891429</th>\n",
       "      <td>a65f77281a528bf5c1e9f270141d601d116e1df33bf9df...</td>\n",
       "      <td>1.0</td>\n",
       "      <td>1.0</td>\n",
       "      <td>ACTIVE</td>\n",
       "      <td>Regularly</td>\n",
       "      <td>61.0</td>\n",
       "      <td>c46e53a04e81a44fecaf0ec64ae353bfb3abc91f510e79...</td>\n",
       "    </tr>\n",
       "    <tr>\n",
       "      <th>969180</th>\n",
       "      <td>b4db5e5259234574edfff958e170fe3a5e13b6f146752c...</td>\n",
       "      <td>1.0</td>\n",
       "      <td>1.0</td>\n",
       "      <td>ACTIVE</td>\n",
       "      <td>Regularly</td>\n",
       "      <td>25.0</td>\n",
       "      <td>4acdec769091cb0bc94cfd3324843156dbc572a7281ae4...</td>\n",
       "    </tr>\n",
       "    <tr>\n",
       "      <th>1018839</th>\n",
       "      <td>be1981ab818cf4ef6765b2ecaea7a2cbf14ccd6e8a7ee9...</td>\n",
       "      <td>NaN</td>\n",
       "      <td>NaN</td>\n",
       "      <td>ACTIVE</td>\n",
       "      <td>NONE</td>\n",
       "      <td>31.0</td>\n",
       "      <td>67851f0456e7070c20c713fe0f47eb15bcbf2a59d13b79...</td>\n",
       "    </tr>\n",
       "    <tr>\n",
       "      <th>1035425</th>\n",
       "      <td>c140410d72a41ee5e2e3ba3d7f5a860f337f1b5e41c27c...</td>\n",
       "      <td>NaN</td>\n",
       "      <td>NaN</td>\n",
       "      <td>ACTIVE</td>\n",
       "      <td>NONE</td>\n",
       "      <td>46.0</td>\n",
       "      <td>28f8003feb7f51128f600df30f168d84712718eb94c9d8...</td>\n",
       "    </tr>\n",
       "    <tr>\n",
       "      <th>1098652</th>\n",
       "      <td>cd04ec2726dd58a8c753e0d6423e57716fd9ebcf2f14ed...</td>\n",
       "      <td>1.0</td>\n",
       "      <td>1.0</td>\n",
       "      <td>ACTIVE</td>\n",
       "      <td>Regularly</td>\n",
       "      <td>68.0</td>\n",
       "      <td>771dc009c1a3bab320696643c3396319f1b1dd67ee9de7...</td>\n",
       "    </tr>\n",
       "  </tbody>\n",
       "</table>\n",
       "</div>"
      ],
      "text/plain": [
       "                                               customer_id   FN  Active  \\\n",
       "20300    03d0011487606c37c1b1ed147fc72f285a50c05f00b971...  1.0     1.0   \n",
       "394603   49beaacac0c7801c2ce2d189efe525fe80b5d37e46ed05...  NaN     NaN   \n",
       "459261   55d15396193dfd45836af3a6269a079efea339e875eff4...  NaN     NaN   \n",
       "582904   6cc121e5cc202d2bf344ffe795002bdbf87178054bcda2...  1.0     1.0   \n",
       "760470   8df45859ccd71ef1e48e2ee9d1c65d5728c31c46ae957d...  1.0     1.0   \n",
       "891429   a65f77281a528bf5c1e9f270141d601d116e1df33bf9df...  1.0     1.0   \n",
       "969180   b4db5e5259234574edfff958e170fe3a5e13b6f146752c...  1.0     1.0   \n",
       "1018839  be1981ab818cf4ef6765b2ecaea7a2cbf14ccd6e8a7ee9...  NaN     NaN   \n",
       "1035425  c140410d72a41ee5e2e3ba3d7f5a860f337f1b5e41c27c...  NaN     NaN   \n",
       "1098652  cd04ec2726dd58a8c753e0d6423e57716fd9ebcf2f14ed...  1.0     1.0   \n",
       "\n",
       "        club_member_status fashion_news_frequency   age  \\\n",
       "20300               ACTIVE              Regularly  51.0   \n",
       "394603              ACTIVE                   NONE  28.0   \n",
       "459261              ACTIVE                   NONE  36.0   \n",
       "582904              ACTIVE              Regularly  32.0   \n",
       "760470              ACTIVE              Regularly  60.0   \n",
       "891429              ACTIVE              Regularly  61.0   \n",
       "969180              ACTIVE              Regularly  25.0   \n",
       "1018839             ACTIVE                   NONE  31.0   \n",
       "1035425             ACTIVE                   NONE  46.0   \n",
       "1098652             ACTIVE              Regularly  68.0   \n",
       "\n",
       "                                               postal_code  \n",
       "20300    8db52856d17c197683efbc9d5ef2dc873aaf7062486b2d...  \n",
       "394603   ab724d6cb2340bd9c5294fd7f2811349f6509a27a8bc5c...  \n",
       "459261   ab522f6a3ad49ede7552234ed11f5e7658b8678832010a...  \n",
       "582904   6480abda4aa42dcf1f5c4597c616bc53365825f1cbdf68...  \n",
       "760470   9a91a77e198519db58d9dd9c55aa037846701ab4d54a9d...  \n",
       "891429   c46e53a04e81a44fecaf0ec64ae353bfb3abc91f510e79...  \n",
       "969180   4acdec769091cb0bc94cfd3324843156dbc572a7281ae4...  \n",
       "1018839  67851f0456e7070c20c713fe0f47eb15bcbf2a59d13b79...  \n",
       "1035425  28f8003feb7f51128f600df30f168d84712718eb94c9d8...  \n",
       "1098652  771dc009c1a3bab320696643c3396319f1b1dd67ee9de7...  "
      ]
     },
     "execution_count": 52,
     "metadata": {},
     "output_type": "execute_result"
    }
   ],
   "source": [
    "filter_customer"
   ]
  },
  {
   "cell_type": "code",
   "execution_count": null,
   "metadata": {
    "id": "uVQUpKmxcJpc",
    "outputId": "83d0b9ea-2bb9-4050-e662-1f006f7abefe"
   },
   "outputs": [
    {
     "data": {
      "text/plain": [
       "Text(0.5, 1.0, 'age distribution')"
      ]
     },
     "execution_count": 53,
     "metadata": {},
     "output_type": "execute_result"
    },
    {
     "data": {
      "image/png": "[encoded data removed]",
      "text/plain": [
       "<Figure size 1368x576 with 1 Axes>"
      ]
     },
     "metadata": {},
     "output_type": "display_data"
    }
   ],
   "source": [
    "plt.hist(filter_customer.age,color='black',bins=15)\n",
    "plt.title('age distribution')"
   ]
  },
  {
   "cell_type": "markdown",
   "metadata": {
    "id": "w1eXRsdEcJpc"
   },
   "source": [
    "For our top 10 customers we see a curious fact, there are 3 customer with age >= 60, in the initial analysis we saw low customers on that age range but in fact, those older customers may be more relevant since they buy more that expected.\n",
    "The youngest top 10 customers are between 20-40 years old, part of the main group of customers.\n",
    "All of the top 10 customers are active on the mebership of fashion clubs."
   ]
  },
  {
   "cell_type": "markdown",
   "metadata": {
    "id": "Rs1X9VLAcJpc"
   },
   "source": [
    "### 2.4.2 Articles - Transaction Relationship\n",
    "\n",
    "In a similar way, for every transaction there is an article (clothing) sold. Let's see now the relationship between our transaction table with the articles table (using article_id key)."
   ]
  },
  {
   "cell_type": "code",
   "execution_count": null,
   "metadata": {
    "id": "56PmH9gtcJpc"
   },
   "outputs": [],
   "source": [
    "top_articles=transactions_train.groupby('article_id').count().customer_id.reset_index()"
   ]
  },
  {
   "cell_type": "code",
   "execution_count": null,
   "metadata": {
    "id": "LA4Z-X59cJpd"
   },
   "outputs": [],
   "source": [
    "top_articles=top_articles.sort_values('customer_id', ascending=False).head(10)"
   ]
  },
  {
   "cell_type": "code",
   "execution_count": null,
   "metadata": {
    "id": "AH2cKEkwcJpd",
    "outputId": "7e590ff5-543c-4e4d-d85a-eda8cfc93ca7"
   },
   "outputs": [
    {
     "data": {
      "text/html": [
       "<div>\n",
       "<style scoped>\n",
       "    .dataframe tbody tr th:only-of-type {\n",
       "        vertical-align: middle;\n",
       "    }\n",
       "\n",
       "    .dataframe tbody tr th {\n",
       "        vertical-align: top;\n",
       "    }\n",
       "\n",
       "    .dataframe thead th {\n",
       "        text-align: right;\n",
       "    }\n",
       "</style>\n",
       "<table border=\"1\" class=\"dataframe\">\n",
       "  <thead>\n",
       "    <tr style=\"text-align: right;\">\n",
       "      <th></th>\n",
       "      <th>article_id</th>\n",
       "      <th>customer_id</th>\n",
       "    </tr>\n",
       "  </thead>\n",
       "  <tbody>\n",
       "    <tr>\n",
       "      <th>53832</th>\n",
       "      <td>706016001</td>\n",
       "      <td>50287</td>\n",
       "    </tr>\n",
       "    <tr>\n",
       "      <th>53833</th>\n",
       "      <td>706016002</td>\n",
       "      <td>35043</td>\n",
       "    </tr>\n",
       "    <tr>\n",
       "      <th>1711</th>\n",
       "      <td>372860001</td>\n",
       "      <td>31718</td>\n",
       "    </tr>\n",
       "    <tr>\n",
       "      <th>24808</th>\n",
       "      <td>610776002</td>\n",
       "      <td>30199</td>\n",
       "    </tr>\n",
       "    <tr>\n",
       "      <th>70124</th>\n",
       "      <td>759871002</td>\n",
       "      <td>26329</td>\n",
       "    </tr>\n",
       "    <tr>\n",
       "      <th>3706</th>\n",
       "      <td>464297007</td>\n",
       "      <td>25025</td>\n",
       "    </tr>\n",
       "    <tr>\n",
       "      <th>1712</th>\n",
       "      <td>372860002</td>\n",
       "      <td>24458</td>\n",
       "    </tr>\n",
       "    <tr>\n",
       "      <th>24807</th>\n",
       "      <td>610776001</td>\n",
       "      <td>22451</td>\n",
       "    </tr>\n",
       "    <tr>\n",
       "      <th>2233</th>\n",
       "      <td>399223001</td>\n",
       "      <td>22236</td>\n",
       "    </tr>\n",
       "    <tr>\n",
       "      <th>53834</th>\n",
       "      <td>706016003</td>\n",
       "      <td>21241</td>\n",
       "    </tr>\n",
       "  </tbody>\n",
       "</table>\n",
       "</div>"
      ],
      "text/plain": [
       "       article_id  customer_id\n",
       "53832   706016001        50287\n",
       "53833   706016002        35043\n",
       "1711    372860001        31718\n",
       "24808   610776002        30199\n",
       "70124   759871002        26329\n",
       "3706    464297007        25025\n",
       "1712    372860002        24458\n",
       "24807   610776001        22451\n",
       "2233    399223001        22236\n",
       "53834   706016003        21241"
      ]
     },
     "execution_count": 56,
     "metadata": {},
     "output_type": "execute_result"
    }
   ],
   "source": [
    "top_articles #top 10 articles most purchased"
   ]
  },
  {
   "cell_type": "code",
   "execution_count": null,
   "metadata": {
    "id": "p_acP8EVcJpd"
   },
   "outputs": [],
   "source": [
    "filter_articles=articles[articles['article_id'].isin(list(top_articles.article_id))]"
   ]
  },
  {
   "cell_type": "code",
   "execution_count": null,
   "metadata": {
    "id": "oL4JYPZNcJpd",
    "outputId": "29aa40d3-9e24-4e91-c197-eebd01dce402"
   },
   "outputs": [
    {
     "data": {
      "text/html": [
       "<div>\n",
       "<style scoped>\n",
       "    .dataframe tbody tr th:only-of-type {\n",
       "        vertical-align: middle;\n",
       "    }\n",
       "\n",
       "    .dataframe tbody tr th {\n",
       "        vertical-align: top;\n",
       "    }\n",
       "\n",
       "    .dataframe thead th {\n",
       "        text-align: right;\n",
       "    }\n",
       "</style>\n",
       "<table border=\"1\" class=\"dataframe\">\n",
       "  <thead>\n",
       "    <tr style=\"text-align: right;\">\n",
       "      <th></th>\n",
       "      <th>article_id</th>\n",
       "      <th>product_code</th>\n",
       "      <th>prod_name</th>\n",
       "      <th>product_type_no</th>\n",
       "      <th>product_type_name</th>\n",
       "      <th>product_group_name</th>\n",
       "      <th>graphical_appearance_no</th>\n",
       "      <th>graphical_appearance_name</th>\n",
       "      <th>colour_group_code</th>\n",
       "      <th>colour_group_name</th>\n",
       "      <th>...</th>\n",
       "      <th>department_name</th>\n",
       "      <th>index_code</th>\n",
       "      <th>index_name</th>\n",
       "      <th>index_group_no</th>\n",
       "      <th>index_group_name</th>\n",
       "      <th>section_no</th>\n",
       "      <th>section_name</th>\n",
       "      <th>garment_group_no</th>\n",
       "      <th>garment_group_name</th>\n",
       "      <th>detail_desc</th>\n",
       "    </tr>\n",
       "  </thead>\n",
       "  <tbody>\n",
       "    <tr>\n",
       "      <th>1713</th>\n",
       "      <td>372860001</td>\n",
       "      <td>372860</td>\n",
       "      <td>7p Basic Shaftless</td>\n",
       "      <td>302</td>\n",
       "      <td>Socks</td>\n",
       "      <td>Socks &amp; Tights</td>\n",
       "      <td>1010016</td>\n",
       "      <td>Solid</td>\n",
       "      <td>9</td>\n",
       "      <td>Black</td>\n",
       "      <td>...</td>\n",
       "      <td>Shopbasket Socks</td>\n",
       "      <td>B</td>\n",
       "      <td>Lingeries/Tights</td>\n",
       "      <td>1</td>\n",
       "      <td>Ladieswear</td>\n",
       "      <td>62</td>\n",
       "      <td>Womens Nightwear, Socks &amp; Tigh</td>\n",
       "      <td>1021</td>\n",
       "      <td>Socks and Tights</td>\n",
       "      <td>Fine-knit trainer socks in a soft cotton blend.</td>\n",
       "    </tr>\n",
       "    <tr>\n",
       "      <th>1714</th>\n",
       "      <td>372860002</td>\n",
       "      <td>372860</td>\n",
       "      <td>7p Basic Shaftless</td>\n",
       "      <td>302</td>\n",
       "      <td>Socks</td>\n",
       "      <td>Socks &amp; Tights</td>\n",
       "      <td>1010016</td>\n",
       "      <td>Solid</td>\n",
       "      <td>10</td>\n",
       "      <td>White</td>\n",
       "      <td>...</td>\n",
       "      <td>Shopbasket Socks</td>\n",
       "      <td>B</td>\n",
       "      <td>Lingeries/Tights</td>\n",
       "      <td>1</td>\n",
       "      <td>Ladieswear</td>\n",
       "      <td>62</td>\n",
       "      <td>Womens Nightwear, Socks &amp; Tigh</td>\n",
       "      <td>1021</td>\n",
       "      <td>Socks and Tights</td>\n",
       "      <td>Fine-knit trainer socks in a soft cotton blend.</td>\n",
       "    </tr>\n",
       "    <tr>\n",
       "      <th>2236</th>\n",
       "      <td>399223001</td>\n",
       "      <td>399223</td>\n",
       "      <td>Curvy Jeggings HW Ankle</td>\n",
       "      <td>272</td>\n",
       "      <td>Trousers</td>\n",
       "      <td>Garment Lower body</td>\n",
       "      <td>1010016</td>\n",
       "      <td>Solid</td>\n",
       "      <td>9</td>\n",
       "      <td>Black</td>\n",
       "      <td>...</td>\n",
       "      <td>Denim Trousers</td>\n",
       "      <td>D</td>\n",
       "      <td>Divided</td>\n",
       "      <td>2</td>\n",
       "      <td>Divided</td>\n",
       "      <td>57</td>\n",
       "      <td>Ladies Denim</td>\n",
       "      <td>1016</td>\n",
       "      <td>Trousers Denim</td>\n",
       "      <td>Jeggings in washed, superstretch denim with a ...</td>\n",
       "    </tr>\n",
       "    <tr>\n",
       "      <th>3711</th>\n",
       "      <td>464297007</td>\n",
       "      <td>464297</td>\n",
       "      <td>Greta Thong Mynta Low 3p</td>\n",
       "      <td>286</td>\n",
       "      <td>Underwear bottom</td>\n",
       "      <td>Underwear</td>\n",
       "      <td>1010014</td>\n",
       "      <td>Placement print</td>\n",
       "      <td>9</td>\n",
       "      <td>Black</td>\n",
       "      <td>...</td>\n",
       "      <td>Casual Lingerie</td>\n",
       "      <td>B</td>\n",
       "      <td>Lingeries/Tights</td>\n",
       "      <td>1</td>\n",
       "      <td>Ladieswear</td>\n",
       "      <td>61</td>\n",
       "      <td>Womens Lingerie</td>\n",
       "      <td>1017</td>\n",
       "      <td>Under-, Nightwear</td>\n",
       "      <td>Thong briefs in cotton jersey with a wide lace...</td>\n",
       "    </tr>\n",
       "    <tr>\n",
       "      <th>24836</th>\n",
       "      <td>610776001</td>\n",
       "      <td>610776</td>\n",
       "      <td>Tilly (1)</td>\n",
       "      <td>255</td>\n",
       "      <td>T-shirt</td>\n",
       "      <td>Garment Upper body</td>\n",
       "      <td>1010016</td>\n",
       "      <td>Solid</td>\n",
       "      <td>10</td>\n",
       "      <td>White</td>\n",
       "      <td>...</td>\n",
       "      <td>Jersey Basic</td>\n",
       "      <td>A</td>\n",
       "      <td>Ladieswear</td>\n",
       "      <td>1</td>\n",
       "      <td>Ladieswear</td>\n",
       "      <td>16</td>\n",
       "      <td>Womens Everyday Basics</td>\n",
       "      <td>1002</td>\n",
       "      <td>Jersey Basic</td>\n",
       "      <td>T-shirt in lightweight jersey with a rounded h...</td>\n",
       "    </tr>\n",
       "    <tr>\n",
       "      <th>24837</th>\n",
       "      <td>610776002</td>\n",
       "      <td>610776</td>\n",
       "      <td>Tilly (1)</td>\n",
       "      <td>255</td>\n",
       "      <td>T-shirt</td>\n",
       "      <td>Garment Upper body</td>\n",
       "      <td>1010016</td>\n",
       "      <td>Solid</td>\n",
       "      <td>9</td>\n",
       "      <td>Black</td>\n",
       "      <td>...</td>\n",
       "      <td>Jersey Basic</td>\n",
       "      <td>A</td>\n",
       "      <td>Ladieswear</td>\n",
       "      <td>1</td>\n",
       "      <td>Ladieswear</td>\n",
       "      <td>16</td>\n",
       "      <td>Womens Everyday Basics</td>\n",
       "      <td>1002</td>\n",
       "      <td>Jersey Basic</td>\n",
       "      <td>T-shirt in lightweight jersey with a rounded h...</td>\n",
       "    </tr>\n",
       "    <tr>\n",
       "      <th>53892</th>\n",
       "      <td>706016001</td>\n",
       "      <td>706016</td>\n",
       "      <td>Jade HW Skinny Denim TRS</td>\n",
       "      <td>272</td>\n",
       "      <td>Trousers</td>\n",
       "      <td>Garment Lower body</td>\n",
       "      <td>1010016</td>\n",
       "      <td>Solid</td>\n",
       "      <td>9</td>\n",
       "      <td>Black</td>\n",
       "      <td>...</td>\n",
       "      <td>Trousers</td>\n",
       "      <td>D</td>\n",
       "      <td>Divided</td>\n",
       "      <td>2</td>\n",
       "      <td>Divided</td>\n",
       "      <td>53</td>\n",
       "      <td>Divided Collection</td>\n",
       "      <td>1009</td>\n",
       "      <td>Trousers</td>\n",
       "      <td>High-waisted jeans in washed superstretch deni...</td>\n",
       "    </tr>\n",
       "    <tr>\n",
       "      <th>53893</th>\n",
       "      <td>706016002</td>\n",
       "      <td>706016</td>\n",
       "      <td>Jade HW Skinny Denim TRS</td>\n",
       "      <td>272</td>\n",
       "      <td>Trousers</td>\n",
       "      <td>Garment Lower body</td>\n",
       "      <td>1010016</td>\n",
       "      <td>Solid</td>\n",
       "      <td>71</td>\n",
       "      <td>Light Blue</td>\n",
       "      <td>...</td>\n",
       "      <td>Trousers</td>\n",
       "      <td>D</td>\n",
       "      <td>Divided</td>\n",
       "      <td>2</td>\n",
       "      <td>Divided</td>\n",
       "      <td>53</td>\n",
       "      <td>Divided Collection</td>\n",
       "      <td>1009</td>\n",
       "      <td>Trousers</td>\n",
       "      <td>High-waisted jeans in washed superstretch deni...</td>\n",
       "    </tr>\n",
       "    <tr>\n",
       "      <th>53894</th>\n",
       "      <td>706016003</td>\n",
       "      <td>706016</td>\n",
       "      <td>Jade HW Skinny Denim TRS</td>\n",
       "      <td>272</td>\n",
       "      <td>Trousers</td>\n",
       "      <td>Garment Lower body</td>\n",
       "      <td>1010016</td>\n",
       "      <td>Solid</td>\n",
       "      <td>73</td>\n",
       "      <td>Dark Blue</td>\n",
       "      <td>...</td>\n",
       "      <td>Trousers</td>\n",
       "      <td>D</td>\n",
       "      <td>Divided</td>\n",
       "      <td>2</td>\n",
       "      <td>Divided</td>\n",
       "      <td>53</td>\n",
       "      <td>Divided Collection</td>\n",
       "      <td>1009</td>\n",
       "      <td>Trousers</td>\n",
       "      <td>High-waisted jeans in washed superstretch deni...</td>\n",
       "    </tr>\n",
       "    <tr>\n",
       "      <th>70221</th>\n",
       "      <td>759871002</td>\n",
       "      <td>759871</td>\n",
       "      <td>Tilda tank</td>\n",
       "      <td>253</td>\n",
       "      <td>Vest top</td>\n",
       "      <td>Garment Upper body</td>\n",
       "      <td>1010016</td>\n",
       "      <td>Solid</td>\n",
       "      <td>9</td>\n",
       "      <td>Black</td>\n",
       "      <td>...</td>\n",
       "      <td>EQ Divided Basics</td>\n",
       "      <td>D</td>\n",
       "      <td>Divided</td>\n",
       "      <td>2</td>\n",
       "      <td>Divided</td>\n",
       "      <td>80</td>\n",
       "      <td>Divided Complements Other</td>\n",
       "      <td>1002</td>\n",
       "      <td>Jersey Basic</td>\n",
       "      <td>Cropped, fitted top in cotton jersey with narr...</td>\n",
       "    </tr>\n",
       "  </tbody>\n",
       "</table>\n",
       "<p>10 rows × 25 columns</p>\n",
       "</div>"
      ],
      "text/plain": [
       "       article_id  product_code                 prod_name  product_type_no  \\\n",
       "1713    372860001        372860        7p Basic Shaftless              302   \n",
       "1714    372860002        372860        7p Basic Shaftless              302   \n",
       "2236    399223001        399223   Curvy Jeggings HW Ankle              272   \n",
       "3711    464297007        464297  Greta Thong Mynta Low 3p              286   \n",
       "24836   610776001        610776                 Tilly (1)              255   \n",
       "24837   610776002        610776                 Tilly (1)              255   \n",
       "53892   706016001        706016  Jade HW Skinny Denim TRS              272   \n",
       "53893   706016002        706016  Jade HW Skinny Denim TRS              272   \n",
       "53894   706016003        706016  Jade HW Skinny Denim TRS              272   \n",
       "70221   759871002        759871                Tilda tank              253   \n",
       "\n",
       "      product_type_name  product_group_name  graphical_appearance_no  \\\n",
       "1713              Socks      Socks & Tights                  1010016   \n",
       "1714              Socks      Socks & Tights                  1010016   \n",
       "2236           Trousers  Garment Lower body                  1010016   \n",
       "3711   Underwear bottom           Underwear                  1010014   \n",
       "24836           T-shirt  Garment Upper body                  1010016   \n",
       "24837           T-shirt  Garment Upper body                  1010016   \n",
       "53892          Trousers  Garment Lower body                  1010016   \n",
       "53893          Trousers  Garment Lower body                  1010016   \n",
       "53894          Trousers  Garment Lower body                  1010016   \n",
       "70221          Vest top  Garment Upper body                  1010016   \n",
       "\n",
       "      graphical_appearance_name  colour_group_code colour_group_name  ...  \\\n",
       "1713                      Solid                  9             Black  ...   \n",
       "1714                      Solid                 10             White  ...   \n",
       "2236                      Solid                  9             Black  ...   \n",
       "3711            Placement print                  9             Black  ...   \n",
       "24836                     Solid                 10             White  ...   \n",
       "24837                     Solid                  9             Black  ...   \n",
       "53892                     Solid                  9             Black  ...   \n",
       "53893                     Solid                 71        Light Blue  ...   \n",
       "53894                     Solid                 73         Dark Blue  ...   \n",
       "70221                     Solid                  9             Black  ...   \n",
       "\n",
       "         department_name index_code        index_name index_group_no  \\\n",
       "1713    Shopbasket Socks          B  Lingeries/Tights              1   \n",
       "1714    Shopbasket Socks          B  Lingeries/Tights              1   \n",
       "2236      Denim Trousers          D           Divided              2   \n",
       "3711     Casual Lingerie          B  Lingeries/Tights              1   \n",
       "24836       Jersey Basic          A        Ladieswear              1   \n",
       "24837       Jersey Basic          A        Ladieswear              1   \n",
       "53892           Trousers          D           Divided              2   \n",
       "53893           Trousers          D           Divided              2   \n",
       "53894           Trousers          D           Divided              2   \n",
       "70221  EQ Divided Basics          D           Divided              2   \n",
       "\n",
       "       index_group_name section_no                    section_name  \\\n",
       "1713         Ladieswear         62  Womens Nightwear, Socks & Tigh   \n",
       "1714         Ladieswear         62  Womens Nightwear, Socks & Tigh   \n",
       "2236            Divided         57                    Ladies Denim   \n",
       "3711         Ladieswear         61                 Womens Lingerie   \n",
       "24836        Ladieswear         16          Womens Everyday Basics   \n",
       "24837        Ladieswear         16          Womens Everyday Basics   \n",
       "53892           Divided         53              Divided Collection   \n",
       "53893           Divided         53              Divided Collection   \n",
       "53894           Divided         53              Divided Collection   \n",
       "70221           Divided         80       Divided Complements Other   \n",
       "\n",
       "      garment_group_no  garment_group_name  \\\n",
       "1713              1021    Socks and Tights   \n",
       "1714              1021    Socks and Tights   \n",
       "2236              1016      Trousers Denim   \n",
       "3711              1017   Under-, Nightwear   \n",
       "24836             1002        Jersey Basic   \n",
       "24837             1002        Jersey Basic   \n",
       "53892             1009            Trousers   \n",
       "53893             1009            Trousers   \n",
       "53894             1009            Trousers   \n",
       "70221             1002        Jersey Basic   \n",
       "\n",
       "                                             detail_desc  \n",
       "1713     Fine-knit trainer socks in a soft cotton blend.  \n",
       "1714     Fine-knit trainer socks in a soft cotton blend.  \n",
       "2236   Jeggings in washed, superstretch denim with a ...  \n",
       "3711   Thong briefs in cotton jersey with a wide lace...  \n",
       "24836  T-shirt in lightweight jersey with a rounded h...  \n",
       "24837  T-shirt in lightweight jersey with a rounded h...  \n",
       "53892  High-waisted jeans in washed superstretch deni...  \n",
       "53893  High-waisted jeans in washed superstretch deni...  \n",
       "53894  High-waisted jeans in washed superstretch deni...  \n",
       "70221  Cropped, fitted top in cotton jersey with narr...  \n",
       "\n",
       "[10 rows x 25 columns]"
      ]
     },
     "execution_count": 58,
     "metadata": {},
     "output_type": "execute_result"
    }
   ],
   "source": [
    "filter_articles"
   ]
  },
  {
   "cell_type": "markdown",
   "metadata": {
    "id": "rehAo53_cJpe"
   },
   "source": [
    "The most sold articles are Trousers and socks amongst few others. A deeper analysis is needed to extract more insight and conclusions from this relationship."
   ]
  },
  {
   "cell_type": "markdown",
   "metadata": {
    "id": "aTpMmmXvcJpe"
   },
   "source": [
    "## 2.5 Correlation and Dispersion\n",
    "\n",
    "### Correlation analisys for cuantitative variables\n",
    "\n",
    "The approximation to this limited ammount of cuantitative variables is through the use of pairplot dispersion graphs, but given that many of this cuantitative variables are integers as months, years and such, it is recommended to omit this correlation analysis."
   ]
  },
  {
   "cell_type": "code",
   "execution_count": null,
   "metadata": {
    "id": "lmuZV5gJcJpe",
    "outputId": "8531e2bc-ea06-44d9-ecdb-30041a98eaa5"
   },
   "outputs": [
    {
     "data": {
      "text/plain": [
       "<seaborn.axisgrid.PairGrid at 0x26e248083d0>"
      ]
     },
     "execution_count": 68,
     "metadata": {},
     "output_type": "execute_result"
    },
    {
     "data": {
      "image/png": "[encoded data removed]",
      "text/plain": [
       "<Figure size 540x540 with 12 Axes>"
      ]
     },
     "metadata": {},
     "output_type": "display_data"
    }
   ],
   "source": [
    "sns.pairplot(transactions_train.loc[:,['price','month','year']].sample(round(len(transactions_train)*0.5)))"
   ]
  },
  {
   "cell_type": "markdown",
   "metadata": {
    "id": "-2OgEriocJpf"
   },
   "source": [
    "## 2.6 Insights from Variable relationships"
   ]
  },
  {
   "cell_type": "markdown",
   "metadata": {
    "id": "4Nai92_TgEuq"
   },
   "source": [
    "In this section, We´re going to compare the number of articles that H & M has in its catalog vs the best seller products sorted by different features like color, and name among others."
   ]
  },
  {
   "cell_type": "markdown",
   "metadata": {
    "id": "2o8Tn8sFh6ji"
   },
   "source": [
    "### 2.6.1 Top 10 articles by colors"
   ]
  },
  {
   "cell_type": "code",
   "execution_count": null,
   "metadata": {
    "colab": {
     "base_uri": "https://localhost:8080/",
     "height": 580
    },
    "id": "Rh_7U-3Bzj20",
    "outputId": "e3004dd0-bfae-4f80-bf48-047768bc0b3b"
   },
   "outputs": [
    {
     "data": {
      "text/plain": [
       "Text(0.5, 1.0, 'TOP 10 Number of articles sold by color in H&M')"
      ]
     },
     "execution_count": 42,
     "metadata": {},
     "output_type": "execute_result"
    },
    {
     "data": {
      "image/png": "[encoded data removed]",
      "text/plain": [
       "<Figure size 1080x576 with 2 Axes>"
      ]
     },
     "metadata": {
      "needs_background": "light"
     },
     "output_type": "display_data"
    }
   ],
   "source": [
    "fig, axes = plt.subplots(1, 2, figsize=(15, 8))\n",
    "ax0, ax1 = axes.flatten()\n",
    "plt.xticks(rotation=90)\n",
    "top10colors=transaction_cp2[\"colour_group_name\"].value_counts().sort_values(ascending=False).head(10).to_frame()\n",
    "top10colors1=articles[\"colour_group_name\"].value_counts().sort_values(ascending=False).head(10).to_frame()\n",
    "## plot 1\n",
    "ax0.bar(top10colors1.index,top10colors1['colour_group_name'])\n",
    "ax0.tick_params(labelrotation=45)\n",
    "ax0.set_ylabel('Number of items')\n",
    "ax0.set_xlabel('Colors')\n",
    "ax0.set_title('TOP 10 Number of articles  by color in H&M')\n",
    "\n",
    "\n",
    "## plot 2\n",
    "ax1.bar(top10colors.index,top10colors['colour_group_name'])\n",
    "ax1.tick_params(labelrotation=45)\n",
    "ax1.set_ylabel('Number of items')\n",
    "ax1.set_xlabel('Colors')\n",
    "ax1.set_title('TOP 10 Number of articles sold by color in H&M')\n"
   ]
  },
  {
   "cell_type": "markdown",
   "metadata": {
    "id": "gWA3FLfe1oNu"
   },
   "source": [
    "In this chart we compare the color of the article in the H&M's catalog vs the top sellers' colors there we can say that Dark blue is the second color in the number of products but in the sales, it's the third one, in the same way, happen with color grey that is the 10th product in the sell list but the 5th in the number of products, also it happens with other colors, it's a relevant insight for H&M to understand the preference of his customers and reorganize the palette of colors to maximize its sells."
   ]
  },
  {
   "cell_type": "markdown",
   "metadata": {
    "id": "HmqeFiXKjG-p"
   },
   "source": [
    "### 2.6.2 Top 10 articles by category\n"
   ]
  },
  {
   "cell_type": "code",
   "execution_count": null,
   "metadata": {
    "colab": {
     "base_uri": "https://localhost:8080/",
     "height": 484
    },
    "id": "A5NL2diV5zJk",
    "outputId": "6e9ebcdb-0904-4191-e66d-aad1fde17a25"
   },
   "outputs": [
    {
     "name": "stderr",
     "output_type": "stream",
     "text": [
      "/usr/local/lib/python3.7/dist-packages/ipykernel_launcher.py:7: MatplotlibDeprecationWarning: Non-1D inputs to pie() are currently squeeze()d, but this behavior is deprecated since 3.1 and will be removed in 3.3; pass a 1D array instead.\n",
      "  import sys\n",
      "/usr/local/lib/python3.7/dist-packages/ipykernel_launcher.py:13: MatplotlibDeprecationWarning: Non-1D inputs to pie() are currently squeeze()d, but this behavior is deprecated since 3.1 and will be removed in 3.3; pass a 1D array instead.\n",
      "  del sys.path[0]\n"
     ]
    },
    {
     "data": {
      "text/plain": [
       "Text(0.5, 1.0, 'Number of items sold per section group in H&M')"
      ]
     },
     "execution_count": 30,
     "metadata": {},
     "output_type": "execute_result"
    },
    {
     "data": {
      "image/png": "[encoded data removed]",
      "text/plain": [
       "<Figure size 936x504 with 2 Axes>"
      ]
     },
     "metadata": {},
     "output_type": "display_data"
    }
   ],
   "source": [
    "fig, axes = plt.subplots(1, 2, figsize=(13, 7))\n",
    "ax0, ax1 = axes.flatten()\n",
    "plt.xticks(rotation=90)\n",
    "data=articles[\"index_group_name\"].value_counts().sort_values(ascending=False).to_frame()\n",
    "data1=transaction_cp2[\"index_group_name\"].value_counts().sort_values(ascending=False).head(10).to_frame()\n",
    "## plot 1\n",
    "ax0.pie(data,labels = data.index, autopct='%1.1f%%',colors= ['lightblue','green','grey','yellow', 'red'],wedgeprops = { 'linewidth' : 3, 'edgecolor' : 'white' })\n",
    "ax0.tick_params(labelrotation=45)\n",
    "ax0.set_title('Number of items per section group in H&M')\n",
    "\n",
    "\n",
    "## plot 2\n",
    "ax1.pie(data1,labels=data1.index,autopct='%1.1f%%',colors= ['lightblue','grey','yellow','red','green' ],wedgeprops = { 'linewidth' : 3, 'edgecolor' : 'white' })\n",
    "ax1.set_title('Number of items sold per section group in H&M')"
   ]
  },
  {
   "cell_type": "markdown",
   "metadata": {
    "id": "wjdR7yxP49he"
   },
   "source": [
    "In this comparison talking about general categories, It's so clear that the second category in the number of products is **Baby/Children** with around 32% of total quantity in the store but it just represents the 3.8% of sales in H&M, It could mean that H&M is trying strongly to introduce this category in his catalog but in the other hand the results haven't been enough, also is so clear that the main customer in H&M is women because represent around 64.2% of its sells."
   ]
  },
  {
   "cell_type": "markdown",
   "metadata": {
    "id": "tlwgTFBWjPVe"
   },
   "source": [
    "### 2.6.3 Top 10 articles by texture of garment"
   ]
  },
  {
   "cell_type": "code",
   "execution_count": null,
   "metadata": {
    "colab": {
     "base_uri": "https://localhost:8080/",
     "height": 583
    },
    "id": "kOe5ZonYB_iF",
    "outputId": "18101b44-2038-4be8-94e0-a015c27d53f9"
   },
   "outputs": [
    {
     "data": {
      "text/plain": [
       "Text(0.5, 1.0, 'TOP 10 Quantity of articles sold by texture of garments in H&M')"
      ]
     },
     "execution_count": 47,
     "metadata": {},
     "output_type": "execute_result"
    },
    {
     "data": {
      "image/png": "[encoded data removed]",
      "text/plain": [
       "<Figure size 1080x576 with 2 Axes>"
      ]
     },
     "metadata": {
      "needs_background": "light"
     },
     "output_type": "display_data"
    }
   ],
   "source": [
    "fig, axes = plt.subplots(1, 2, figsize=(15, 8))\n",
    "ax0, ax1 = axes.flatten()\n",
    "plt.xticks(rotation=90)\n",
    "data=articles[\"graphical_appearance_name\"].value_counts().sort_values(ascending=False).head(10).to_frame()\n",
    "data1=transaction_cp2[\"graphical_appearance_name\"].value_counts().sort_values(ascending=False).head(10).to_frame()\n",
    "## plot 1\n",
    "ax0.bar(data.index,data[\"graphical_appearance_name\"])\n",
    "ax0.tick_params(labelrotation=45)\n",
    "ax0.set_ylabel('Number of items')\n",
    "ax0.set_xlabel('Garment texture')\n",
    "ax0.set_title('TOP 10 Quantity of articles by texture of garments in H&M')\n",
    "\n",
    "\n",
    "## plot 2\n",
    "ax1.bar(data1.index,data1[\"graphical_appearance_name\"])\n",
    "ax1.tick_params(labelrotation=45)\n",
    "ax1.set_ylabel('Number of items')\n",
    "ax1.set_xlabel('Garment texture')\n",
    "ax1.set_title('TOP 10 Quantity of articles sold by texture of garments in H&M')"
   ]
  },
  {
   "cell_type": "markdown",
   "metadata": {
    "id": "FRW18tlyEBr-"
   },
   "source": [
    "In these plots we compared articles by texture in the catalog vs texture garment in the sales, the main category is Solid which is the top seller texture and is the most common in the store, moreover, the other types have similar numbers between each texture despite it isn't in the same order, Could be pretty interesting if H&M try to introduce other patterns of desing to reduce the difference between solid and the others type of patterns in the clothes."
   ]
  },
  {
   "cell_type": "markdown",
   "metadata": {
    "id": "V76O7W_-lJIw"
   },
   "source": [
    "### 2.6.4 Top 10 articles by name"
   ]
  },
  {
   "cell_type": "code",
   "execution_count": null,
   "metadata": {
    "colab": {
     "base_uri": "https://localhost:8080/",
     "height": 560
    },
    "id": "TBEieyobDBDE",
    "outputId": "d58601d0-af3d-46c8-8bec-289ce2302465"
   },
   "outputs": [
    {
     "data": {
      "text/plain": [
       "Text(0.5, 1.0, 'TOP 10 Number of items sold per product type in H&M')"
      ]
     },
     "execution_count": 46,
     "metadata": {},
     "output_type": "execute_result"
    },
    {
     "data": {
      "image/png": "[encoded data removed]",
      "text/plain": [
       "<Figure size 1080x576 with 2 Axes>"
      ]
     },
     "metadata": {
      "needs_background": "light"
     },
     "output_type": "display_data"
    }
   ],
   "source": [
    "fig, axes = plt.subplots(1, 2, figsize=(15, 8))\n",
    "ax0, ax1 = axes.flatten()\n",
    "plt.xticks(rotation=90)\n",
    "data=articles[\"product_type_name\"].value_counts().sort_values(ascending=False).head(10).to_frame()\n",
    "data1=transaction_cp2[\"product_type_name\"].value_counts().sort_values(ascending=False).head(10).to_frame()\n",
    "## plot 1\n",
    "ax0.bar(data.index,data[\"product_type_name\"])\n",
    "ax0.tick_params(labelrotation=45)\n",
    "ax0.set_ylabel('Number of items')\n",
    "ax0.set_xlabel('Product type')\n",
    "ax0.set_title('TOP 10 Number of items per product type in H&M')\n",
    "\n",
    "\n",
    "## plot 2\n",
    "ax1.bar(data1.index,data1[\"product_type_name\"])\n",
    "ax1.tick_params(labelrotation=45)\n",
    "ax1.set_ylabel('Number of items')\n",
    "ax1.set_xlabel('Product type')\n",
    "ax1.set_title('TOP 10 Number of items sold per product type in H&M')"
   ]
  },
  {
   "cell_type": "markdown",
   "metadata": {
    "id": "F5QPvVUEOb4K"
   },
   "source": [
    "At this point We analyze a deeply the product category related to the kind of clothes it is, both of the plots show so similar results, the categories are sorted in the same way and the relation keeps similar in both of them"
   ]
  },
  {
   "cell_type": "markdown",
   "metadata": {
    "id": "DI29PvnTpZyX"
   },
   "source": [
    "### 2.6.5 Top 5 articles colors by category"
   ]
  },
  {
   "cell_type": "code",
   "execution_count": null,
   "metadata": {
    "id": "Oh8PRTLoppwT"
   },
   "outputs": [],
   "source": [
    "## group categories\n",
    "group_categories_colors= articles.groupby(['index_group_name'])['colour_group_name'].value_counts().to_frame()\n",
    "group_categories_colors = group_categories_colors.rename(columns={'colour_group_name':'count'})\n",
    "group_categories_colors = group_categories_colors.reset_index()\n"
   ]
  },
  {
   "cell_type": "code",
   "execution_count": null,
   "metadata": {
    "colab": {
     "base_uri": "https://localhost:8080/",
     "height": 695
    },
    "id": "tN8Z_2VCpJj8",
    "outputId": "3af56e88-20b2-49af-e484-e72be1fd4edc"
   },
   "outputs": [
    {
     "data": {
      "text/plain": [
       "Text(0.5, 1.0, '')"
      ]
     },
     "execution_count": 34,
     "metadata": {},
     "output_type": "execute_result"
    },
    {
     "data": {
      "image/png": "[encoded data removed]",
      "text/plain": [
       "<Figure size 1656x720 with 5 Axes>"
      ]
     },
     "metadata": {
      "needs_background": "light"
     },
     "output_type": "display_data"
    }
   ],
   "source": [
    "a = group_categories_colors[group_categories_colors['index_group_name'] == 'Baby/Children'].head(5)\n",
    "b = group_categories_colors[group_categories_colors['index_group_name'] == 'Divided'].head(5)\n",
    "c = group_categories_colors[group_categories_colors['index_group_name'] == 'Ladieswear'].head(5)\n",
    "d = group_categories_colors[group_categories_colors['index_group_name'] == 'Menswear'].head(5)\n",
    "e = group_categories_colors[group_categories_colors['index_group_name'] == 'Sport'].head(5)\n",
    "color_category = pd.concat([a,b,c,d,e])\n",
    "fig, axes = plt.subplots(1, 5, figsize=(23, 10))\n",
    "fig.suptitle('TOP 5 COLOR BY CATEGORY IN THE CATALOG')\n",
    "custom_palette = ['blue','black','pink','white','grey']\n",
    "sns.set_palette(custom_palette)\n",
    "# Bay/childre\n",
    "sns.barplot(ax=axes[0], x='index_group_name' , y= 'count', data = a, hue = \"colour_group_name\",edgecolor = \"black\"),\n",
    "axes[0].set_title('')\n",
    "# Divided\n",
    "custom_palette = ['black', 'white','pink', 'darkblue', 'lightblue' ]\n",
    "sns.set_palette(custom_palette)\n",
    "sns.barplot(ax=axes[1],  x='index_group_name' , y= 'count', data = b, hue = \"colour_group_name\",edgecolor = \"black\")\n",
    "axes[1].set_title('')\n",
    "# Ladieswear\n",
    "custom_palette = ['black', 'white','darkblue', 'beige', 'pink' ]\n",
    "sns.set_palette(custom_palette)\n",
    "sns.barplot(ax=axes[2], x='index_group_name' , y= 'count', data = c, hue = \"colour_group_name\",edgecolor = \"black\")\n",
    "axes[2].set_title('')\n",
    "# Menswear\n",
    "custom_palette = ['black', 'darkblue','white', 'grey', 'darkgrey' ]\n",
    "sns.set_palette(custom_palette)\n",
    "sns.barplot(ax=axes[3], x='index_group_name' , y= 'count', data = d, hue = \"colour_group_name\",edgecolor = \"black\")\n",
    "axes[3].set_title('')\n",
    "#Sport\n",
    "custom_palette = ['black', 'darkblue','darkgrey', 'white', 'grey' ]\n",
    "sns.set_palette(custom_palette)\n",
    "sns.barplot(ax=axes[4], x='index_group_name' , y= 'count', data = e, hue = \"colour_group_name\",edgecolor = \"black\")\n",
    "axes[4].set_title('')"
   ]
  },
  {
   "cell_type": "code",
   "execution_count": null,
   "metadata": {
    "id": "N8XkDLVzqQyQ"
   },
   "outputs": [],
   "source": [
    "group_categories_colors= transaction_cp2.groupby(['index_group_name'])['colour_group_name'].value_counts().to_frame()\n",
    "group_categories_colors = group_categories_colors.rename(columns={'colour_group_name':'count'})\n",
    "group_categories_colors = group_categories_colors.reset_index()"
   ]
  },
  {
   "cell_type": "code",
   "execution_count": null,
   "metadata": {
    "colab": {
     "base_uri": "https://localhost:8080/",
     "height": 695
    },
    "id": "lnuQ0PxUqIyO",
    "outputId": "05130a57-6fd7-4139-ff69-0d0ed21732c0"
   },
   "outputs": [
    {
     "data": {
      "text/plain": [
       "Text(0.5, 1.0, '')"
      ]
     },
     "execution_count": 36,
     "metadata": {},
     "output_type": "execute_result"
    },
    {
     "data": {
      "image/png": "[encoded data removed]",
      "text/plain": [
       "<Figure size 1656x720 with 5 Axes>"
      ]
     },
     "metadata": {
      "needs_background": "light"
     },
     "output_type": "display_data"
    }
   ],
   "source": [
    "a = group_categories_colors[group_categories_colors['index_group_name'] == 'Baby/Children'].head(5)\n",
    "b = group_categories_colors[group_categories_colors['index_group_name'] == 'Divided'].head(5)\n",
    "c = group_categories_colors[group_categories_colors['index_group_name'] == 'Ladieswear'].head(5)\n",
    "d = group_categories_colors[group_categories_colors['index_group_name'] == 'Menswear'].head(5)\n",
    "e = group_categories_colors[group_categories_colors['index_group_name'] == 'Sport'].head(5)\n",
    "color_category = pd.concat([a,b,c,d,e])\n",
    "\n",
    "# PLot THE DATA\n",
    "fig, axes = plt.subplots(1, 5, figsize=(23, 10))\n",
    "fig.suptitle('TOP 5 COLOR AND CATEGORI BY SALES') \n",
    "\n",
    "custom_palette = ['blue','black', 'white', 'grey', 'pink']\n",
    "sns.set_palette(custom_palette)\n",
    "# Bay/childre\n",
    "sns.barplot(ax=axes[0], x='index_group_name' , y= 'count', data = a, hue = \"colour_group_name\",edgecolor = \"black\"), #color = ['blue','black', 'white', 'pink'])\n",
    "axes[0].set_title('')\n",
    "\n",
    "# Divided\n",
    "custom_palette = ['black', 'white','blue', 'darkblue', 'lightblue' ]\n",
    "sns.set_palette(custom_palette)\n",
    "sns.barplot(ax=axes[1],  x='index_group_name' , y= 'count', data = b, hue = \"colour_group_name\",edgecolor = \"black\")\n",
    "axes[1].set_title('')\n",
    "\n",
    "# Ladieswear\n",
    "custom_palette = ['black', 'white','darkblue', 'beige', 'white' ]\n",
    "sns.set_palette(custom_palette)\n",
    "sns.barplot(ax=axes[2], x='index_group_name' , y= 'count', data = c, hue = \"colour_group_name\",edgecolor = \"black\")\n",
    "axes[2].set_title('')\n",
    "\n",
    "# Menswear\n",
    "custom_palette = ['black', 'darkblue','white', 'grey', 'blue' ]\n",
    "sns.set_palette(custom_palette)\n",
    "sns.barplot(ax=axes[3], x='index_group_name' , y= 'count', data = d, hue = \"colour_group_name\",edgecolor = \"black\")\n",
    "axes[3].set_title('')\n",
    "\n",
    "#Sport\n",
    "custom_palette = ['black', 'pink','white', 'darkblue', 'darkgrey' ]\n",
    "sns.set_palette(custom_palette)\n",
    "sns.barplot(ax=axes[4], x='index_group_name' , y= 'count', data = e, hue = \"colour_group_name\",edgecolor = \"black\")\n",
    "axes[4].set_title('')"
   ]
  },
  {
   "cell_type": "markdown",
   "metadata": {
    "id": "hM2plkwGdLpX"
   },
   "source": [
    "We analyzed each category, first with the number of items that every one of them has in the stores and then we analyzed sort by the number of sold products, It's sorted by color.\n",
    "1. **Baby/Children:** in this category the favorite color is dark blue and black, but in the third position of the number of items in the catalog it has pink color but in the number of items sold we have pink just in the 5th position, For H&M could be a good option change the number of pink items in the catalog to increase products with other colors which are chosen more by the customers.\n",
    "2. **Divided:** this category is for all genders, black is the preferred color by far in both charts, followed by white and different tones of blue, this distribution is adjusted with the demand by the customers.\n",
    "3. **Ladieswear:** Again Black is the favorite color, white is also important and it's demanded, however pink is the 5 color in the catalog but it isn't in the top 5 sales, Could be a good idea to identify which categories are more demanded pink color and increase the number of white items.\n",
    "4. **Menswear:** For men the dark color is the mode but white is also important, the distribution in the catalog and top 5 sales colors is similar and well distributed.\n",
    "5. **Sports:**  Black is the best color by far for sports in H&M, but in the second place by numbers in the catalog is dark blue but in the sales, the second preferred color is pink and dark blue is the 4th position, H&M might increase the number of pink items for athletes."
   ]
  }
 ],
 "metadata": {
  "colab": {
   "name": "EDA_DS4A_PROJECT_2Entrega.ipynb",
   "provenance": []
  },
  "kernelspec": {
   "display_name": "Python 3 (ipykernel)",
   "language": "python",
   "name": "python3"
  },
  "language_info": {
   "codemirror_mode": {
    "name": "ipython",
    "version": 3
   },
   "file_extension": ".py",
   "mimetype": "text/x-python",
   "name": "python",
   "nbconvert_exporter": "python",
   "pygments_lexer": "ipython3",
   "version": "3.9.12"
  }
 },
 "nbformat": 4,
 "nbformat_minor": 1
}
